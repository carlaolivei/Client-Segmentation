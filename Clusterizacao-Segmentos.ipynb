{
  "cells": [
    {
      "cell_type": "markdown",
      "metadata": {
        "id": "UrA8qzqhqZC1"
      },
      "source": [
        "### Segmentação de Clientes"
      ]
    },
    {
      "cell_type": "markdown",
      "metadata": {
        "id": "tHJO22JdqZC3"
      },
      "source": [
        "> Neste trabalho, usaremos o banco de dados da Olist com K-means para identificar a frequência, recência e receita dos consumidores e agrupa-los em categorias de compras. Assim podemos fazer campanhas de marketing específicas, além de criar programas de recompensas para os clientes que mais consomem."
      ]
    },
    {
      "cell_type": "code",
      "execution_count": 1,
      "metadata": {
        "id": "SFZcpCKrqZC4"
      },
      "outputs": [],
      "source": [
        "import pandas as pd\n",
        "import numpy as np\n",
        "import matplotlib as mpl\n",
        "import matplotlib.pyplot as plt\n",
        "import seaborn as sns\n",
        "import datetime"
      ]
    },
    {
      "cell_type": "code",
      "execution_count": 2,
      "metadata": {
        "id": "P4lNd_9sqZC5"
      },
      "outputs": [],
      "source": [
        "df=pd.read_csv('/content/BancoDeDados.csv')"
      ]
    },
    {
      "cell_type": "code",
      "execution_count": 3,
      "metadata": {
        "colab": {
          "base_uri": "https://localhost:8080/"
        },
        "id": "oq37WAgVqZC5",
        "outputId": "e24cb4b6-9c62-4175-d793-4ef5cb74f6c2"
      },
      "outputs": [
        {
          "output_type": "stream",
          "name": "stdout",
          "text": [
            "<class 'pandas.core.frame.DataFrame'>\n",
            "RangeIndex: 116581 entries, 0 to 116580\n",
            "Data columns (total 27 columns):\n",
            " #   Column                Non-Null Count   Dtype  \n",
            "---  ------                --------------   -----  \n",
            " 0   amostra               116581 non-null  int64  \n",
            " 1   id_cliente            116581 non-null  object \n",
            " 2   id_unico_cliente      116581 non-null  object \n",
            " 3   item_id               116581 non-null  int64  \n",
            " 4   cep_cliente           116581 non-null  int64  \n",
            " 5   cidade_cliente        116581 non-null  object \n",
            " 6   estado_cliente        116581 non-null  object \n",
            " 7   id_pedido             116581 non-null  object \n",
            " 8   status_pedido         116581 non-null  object \n",
            " 9   horario_pedido        116581 non-null  object \n",
            " 10  pedido_aprovado       116567 non-null  object \n",
            " 11  pedido_entregador     115368 non-null  object \n",
            " 12  pedido_entregue       114066 non-null  object \n",
            " 13  data_estimada         116581 non-null  object \n",
            " 14  id_vendedor           116581 non-null  object \n",
            " 15  preco                 116581 non-null  float64\n",
            " 16  frete                 116581 non-null  float64\n",
            " 17  pagamento_sequencial  116581 non-null  int64  \n",
            " 18  pagamento_tipo        116581 non-null  object \n",
            " 19  pagamento_prestacoes  116581 non-null  int64  \n",
            " 20  pagamento_valor       116581 non-null  float64\n",
            " 21  review                116581 non-null  int64  \n",
            " 22  categoria             116581 non-null  object \n",
            " 23  categoria_ingles      116581 non-null  object \n",
            " 24  cep_vendedor          116581 non-null  int64  \n",
            " 25  cidade_vendedor       116581 non-null  object \n",
            " 26  estado_vendedor       116581 non-null  object \n",
            "dtypes: float64(3), int64(7), object(17)\n",
            "memory usage: 24.0+ MB\n"
          ]
        }
      ],
      "source": [
        "df.info()"
      ]
    },
    {
      "cell_type": "code",
      "execution_count": 4,
      "metadata": {
        "colab": {
          "base_uri": "https://localhost:8080/",
          "height": 386
        },
        "id": "0ugoiHbiqZC6",
        "outputId": "79c44f07-3e4e-4293-fd7a-ac0d9a501488"
      },
      "outputs": [
        {
          "output_type": "execute_result",
          "data": {
            "text/plain": [
              "   amostra                        id_cliente  \\\n",
              "0        0  06b8999e2fba1a1fbc88172c00ba8bc7   \n",
              "1        1  8912fc0c3bbf1e2fbf35819e21706718   \n",
              "2        2  8912fc0c3bbf1e2fbf35819e21706718   \n",
              "3        3  f0ac8e5a239118859b1734e1087cbb1f   \n",
              "4        4  6bc8d08963a135220ed6c6d098831f84   \n",
              "\n",
              "                   id_unico_cliente  item_id  cep_cliente   cidade_cliente  \\\n",
              "0  861eff4711a542e4b93843c6dd7febb0        1        14409           franca   \n",
              "1  9eae34bbd3a474ec5d07949ca7de67c0        1        68030         santarem   \n",
              "2  9eae34bbd3a474ec5d07949ca7de67c0        2        68030         santarem   \n",
              "3  3c799d181c34d51f6d44bbbc563024db        1        92480  nova santa rita   \n",
              "4  23397e992b09769faf5e66f9e171a241        1        25931             mage   \n",
              "\n",
              "  estado_cliente                         id_pedido status_pedido  \\\n",
              "0             SP  00e7ee1b050b8499577073aeb2a297a1     delivered   \n",
              "1             PA  c1d2b34febe9cd269e378117d6681172     delivered   \n",
              "2             PA  c1d2b34febe9cd269e378117d6681172     delivered   \n",
              "3             RS  b1a5d5365d330d10485e0203d54ab9e8     delivered   \n",
              "4             RJ  2e604b3614664aa66867856dba7e61b7     delivered   \n",
              "\n",
              "        horario_pedido  ... pagamento_sequencial pagamento_tipo  \\\n",
              "0  2017-05-16 15:05:35  ...                    1    credit_card   \n",
              "1  2017-11-09 00:50:13  ...                    1    credit_card   \n",
              "2  2017-11-09 00:50:13  ...                    1    credit_card   \n",
              "3  2017-05-07 20:11:26  ...                    1    credit_card   \n",
              "4  2018-02-03 19:45:40  ...                    1    credit_card   \n",
              "\n",
              "  pagamento_prestacoes pagamento_valor review          categoria  \\\n",
              "0                    2          146.87      4  moveis_escritorio   \n",
              "1                    1          275.79      1  moveis_escritorio   \n",
              "2                    1          275.79      1  moveis_escritorio   \n",
              "3                    7          140.61      3  moveis_escritorio   \n",
              "4                   10          137.58      4  moveis_escritorio   \n",
              "\n",
              "   categoria_ingles  cep_vendedor  cidade_vendedor  estado_vendedor  \n",
              "0  office_furniture          8577  itaquaquecetuba               SP  \n",
              "1  office_furniture          8577  itaquaquecetuba               SP  \n",
              "2  office_furniture          8577  itaquaquecetuba               SP  \n",
              "3  office_furniture          8577  itaquaquecetuba               SP  \n",
              "4  office_furniture          8577  itaquaquecetuba               SP  \n",
              "\n",
              "[5 rows x 27 columns]"
            ],
            "text/html": [
              "\n",
              "  <div id=\"df-0043d031-eea5-48cf-af80-9b285170a3b9\">\n",
              "    <div class=\"colab-df-container\">\n",
              "      <div>\n",
              "<style scoped>\n",
              "    .dataframe tbody tr th:only-of-type {\n",
              "        vertical-align: middle;\n",
              "    }\n",
              "\n",
              "    .dataframe tbody tr th {\n",
              "        vertical-align: top;\n",
              "    }\n",
              "\n",
              "    .dataframe thead th {\n",
              "        text-align: right;\n",
              "    }\n",
              "</style>\n",
              "<table border=\"1\" class=\"dataframe\">\n",
              "  <thead>\n",
              "    <tr style=\"text-align: right;\">\n",
              "      <th></th>\n",
              "      <th>amostra</th>\n",
              "      <th>id_cliente</th>\n",
              "      <th>id_unico_cliente</th>\n",
              "      <th>item_id</th>\n",
              "      <th>cep_cliente</th>\n",
              "      <th>cidade_cliente</th>\n",
              "      <th>estado_cliente</th>\n",
              "      <th>id_pedido</th>\n",
              "      <th>status_pedido</th>\n",
              "      <th>horario_pedido</th>\n",
              "      <th>...</th>\n",
              "      <th>pagamento_sequencial</th>\n",
              "      <th>pagamento_tipo</th>\n",
              "      <th>pagamento_prestacoes</th>\n",
              "      <th>pagamento_valor</th>\n",
              "      <th>review</th>\n",
              "      <th>categoria</th>\n",
              "      <th>categoria_ingles</th>\n",
              "      <th>cep_vendedor</th>\n",
              "      <th>cidade_vendedor</th>\n",
              "      <th>estado_vendedor</th>\n",
              "    </tr>\n",
              "  </thead>\n",
              "  <tbody>\n",
              "    <tr>\n",
              "      <th>0</th>\n",
              "      <td>0</td>\n",
              "      <td>06b8999e2fba1a1fbc88172c00ba8bc7</td>\n",
              "      <td>861eff4711a542e4b93843c6dd7febb0</td>\n",
              "      <td>1</td>\n",
              "      <td>14409</td>\n",
              "      <td>franca</td>\n",
              "      <td>SP</td>\n",
              "      <td>00e7ee1b050b8499577073aeb2a297a1</td>\n",
              "      <td>delivered</td>\n",
              "      <td>2017-05-16 15:05:35</td>\n",
              "      <td>...</td>\n",
              "      <td>1</td>\n",
              "      <td>credit_card</td>\n",
              "      <td>2</td>\n",
              "      <td>146.87</td>\n",
              "      <td>4</td>\n",
              "      <td>moveis_escritorio</td>\n",
              "      <td>office_furniture</td>\n",
              "      <td>8577</td>\n",
              "      <td>itaquaquecetuba</td>\n",
              "      <td>SP</td>\n",
              "    </tr>\n",
              "    <tr>\n",
              "      <th>1</th>\n",
              "      <td>1</td>\n",
              "      <td>8912fc0c3bbf1e2fbf35819e21706718</td>\n",
              "      <td>9eae34bbd3a474ec5d07949ca7de67c0</td>\n",
              "      <td>1</td>\n",
              "      <td>68030</td>\n",
              "      <td>santarem</td>\n",
              "      <td>PA</td>\n",
              "      <td>c1d2b34febe9cd269e378117d6681172</td>\n",
              "      <td>delivered</td>\n",
              "      <td>2017-11-09 00:50:13</td>\n",
              "      <td>...</td>\n",
              "      <td>1</td>\n",
              "      <td>credit_card</td>\n",
              "      <td>1</td>\n",
              "      <td>275.79</td>\n",
              "      <td>1</td>\n",
              "      <td>moveis_escritorio</td>\n",
              "      <td>office_furniture</td>\n",
              "      <td>8577</td>\n",
              "      <td>itaquaquecetuba</td>\n",
              "      <td>SP</td>\n",
              "    </tr>\n",
              "    <tr>\n",
              "      <th>2</th>\n",
              "      <td>2</td>\n",
              "      <td>8912fc0c3bbf1e2fbf35819e21706718</td>\n",
              "      <td>9eae34bbd3a474ec5d07949ca7de67c0</td>\n",
              "      <td>2</td>\n",
              "      <td>68030</td>\n",
              "      <td>santarem</td>\n",
              "      <td>PA</td>\n",
              "      <td>c1d2b34febe9cd269e378117d6681172</td>\n",
              "      <td>delivered</td>\n",
              "      <td>2017-11-09 00:50:13</td>\n",
              "      <td>...</td>\n",
              "      <td>1</td>\n",
              "      <td>credit_card</td>\n",
              "      <td>1</td>\n",
              "      <td>275.79</td>\n",
              "      <td>1</td>\n",
              "      <td>moveis_escritorio</td>\n",
              "      <td>office_furniture</td>\n",
              "      <td>8577</td>\n",
              "      <td>itaquaquecetuba</td>\n",
              "      <td>SP</td>\n",
              "    </tr>\n",
              "    <tr>\n",
              "      <th>3</th>\n",
              "      <td>3</td>\n",
              "      <td>f0ac8e5a239118859b1734e1087cbb1f</td>\n",
              "      <td>3c799d181c34d51f6d44bbbc563024db</td>\n",
              "      <td>1</td>\n",
              "      <td>92480</td>\n",
              "      <td>nova santa rita</td>\n",
              "      <td>RS</td>\n",
              "      <td>b1a5d5365d330d10485e0203d54ab9e8</td>\n",
              "      <td>delivered</td>\n",
              "      <td>2017-05-07 20:11:26</td>\n",
              "      <td>...</td>\n",
              "      <td>1</td>\n",
              "      <td>credit_card</td>\n",
              "      <td>7</td>\n",
              "      <td>140.61</td>\n",
              "      <td>3</td>\n",
              "      <td>moveis_escritorio</td>\n",
              "      <td>office_furniture</td>\n",
              "      <td>8577</td>\n",
              "      <td>itaquaquecetuba</td>\n",
              "      <td>SP</td>\n",
              "    </tr>\n",
              "    <tr>\n",
              "      <th>4</th>\n",
              "      <td>4</td>\n",
              "      <td>6bc8d08963a135220ed6c6d098831f84</td>\n",
              "      <td>23397e992b09769faf5e66f9e171a241</td>\n",
              "      <td>1</td>\n",
              "      <td>25931</td>\n",
              "      <td>mage</td>\n",
              "      <td>RJ</td>\n",
              "      <td>2e604b3614664aa66867856dba7e61b7</td>\n",
              "      <td>delivered</td>\n",
              "      <td>2018-02-03 19:45:40</td>\n",
              "      <td>...</td>\n",
              "      <td>1</td>\n",
              "      <td>credit_card</td>\n",
              "      <td>10</td>\n",
              "      <td>137.58</td>\n",
              "      <td>4</td>\n",
              "      <td>moveis_escritorio</td>\n",
              "      <td>office_furniture</td>\n",
              "      <td>8577</td>\n",
              "      <td>itaquaquecetuba</td>\n",
              "      <td>SP</td>\n",
              "    </tr>\n",
              "  </tbody>\n",
              "</table>\n",
              "<p>5 rows × 27 columns</p>\n",
              "</div>\n",
              "      <button class=\"colab-df-convert\" onclick=\"convertToInteractive('df-0043d031-eea5-48cf-af80-9b285170a3b9')\"\n",
              "              title=\"Convert this dataframe to an interactive table.\"\n",
              "              style=\"display:none;\">\n",
              "        \n",
              "  <svg xmlns=\"http://www.w3.org/2000/svg\" height=\"24px\"viewBox=\"0 0 24 24\"\n",
              "       width=\"24px\">\n",
              "    <path d=\"M0 0h24v24H0V0z\" fill=\"none\"/>\n",
              "    <path d=\"M18.56 5.44l.94 2.06.94-2.06 2.06-.94-2.06-.94-.94-2.06-.94 2.06-2.06.94zm-11 1L8.5 8.5l.94-2.06 2.06-.94-2.06-.94L8.5 2.5l-.94 2.06-2.06.94zm10 10l.94 2.06.94-2.06 2.06-.94-2.06-.94-.94-2.06-.94 2.06-2.06.94z\"/><path d=\"M17.41 7.96l-1.37-1.37c-.4-.4-.92-.59-1.43-.59-.52 0-1.04.2-1.43.59L10.3 9.45l-7.72 7.72c-.78.78-.78 2.05 0 2.83L4 21.41c.39.39.9.59 1.41.59.51 0 1.02-.2 1.41-.59l7.78-7.78 2.81-2.81c.8-.78.8-2.07 0-2.86zM5.41 20L4 18.59l7.72-7.72 1.47 1.35L5.41 20z\"/>\n",
              "  </svg>\n",
              "      </button>\n",
              "      \n",
              "  <style>\n",
              "    .colab-df-container {\n",
              "      display:flex;\n",
              "      flex-wrap:wrap;\n",
              "      gap: 12px;\n",
              "    }\n",
              "\n",
              "    .colab-df-convert {\n",
              "      background-color: #E8F0FE;\n",
              "      border: none;\n",
              "      border-radius: 50%;\n",
              "      cursor: pointer;\n",
              "      display: none;\n",
              "      fill: #1967D2;\n",
              "      height: 32px;\n",
              "      padding: 0 0 0 0;\n",
              "      width: 32px;\n",
              "    }\n",
              "\n",
              "    .colab-df-convert:hover {\n",
              "      background-color: #E2EBFA;\n",
              "      box-shadow: 0px 1px 2px rgba(60, 64, 67, 0.3), 0px 1px 3px 1px rgba(60, 64, 67, 0.15);\n",
              "      fill: #174EA6;\n",
              "    }\n",
              "\n",
              "    [theme=dark] .colab-df-convert {\n",
              "      background-color: #3B4455;\n",
              "      fill: #D2E3FC;\n",
              "    }\n",
              "\n",
              "    [theme=dark] .colab-df-convert:hover {\n",
              "      background-color: #434B5C;\n",
              "      box-shadow: 0px 1px 3px 1px rgba(0, 0, 0, 0.15);\n",
              "      filter: drop-shadow(0px 1px 2px rgba(0, 0, 0, 0.3));\n",
              "      fill: #FFFFFF;\n",
              "    }\n",
              "  </style>\n",
              "\n",
              "      <script>\n",
              "        const buttonEl =\n",
              "          document.querySelector('#df-0043d031-eea5-48cf-af80-9b285170a3b9 button.colab-df-convert');\n",
              "        buttonEl.style.display =\n",
              "          google.colab.kernel.accessAllowed ? 'block' : 'none';\n",
              "\n",
              "        async function convertToInteractive(key) {\n",
              "          const element = document.querySelector('#df-0043d031-eea5-48cf-af80-9b285170a3b9');\n",
              "          const dataTable =\n",
              "            await google.colab.kernel.invokeFunction('convertToInteractive',\n",
              "                                                     [key], {});\n",
              "          if (!dataTable) return;\n",
              "\n",
              "          const docLinkHtml = 'Like what you see? Visit the ' +\n",
              "            '<a target=\"_blank\" href=https://colab.research.google.com/notebooks/data_table.ipynb>data table notebook</a>'\n",
              "            + ' to learn more about interactive tables.';\n",
              "          element.innerHTML = '';\n",
              "          dataTable['output_type'] = 'display_data';\n",
              "          await google.colab.output.renderOutput(dataTable, element);\n",
              "          const docLink = document.createElement('div');\n",
              "          docLink.innerHTML = docLinkHtml;\n",
              "          element.appendChild(docLink);\n",
              "        }\n",
              "      </script>\n",
              "    </div>\n",
              "  </div>\n",
              "  "
            ]
          },
          "metadata": {},
          "execution_count": 4
        }
      ],
      "source": [
        "df.head()"
      ]
    },
    {
      "cell_type": "markdown",
      "metadata": {
        "id": "n5f-nAXyqZC7"
      },
      "source": [
        "### Análise Exploratória"
      ]
    },
    {
      "cell_type": "code",
      "execution_count": 5,
      "metadata": {
        "id": "wdSmEGQ-qZC7"
      },
      "outputs": [],
      "source": [
        "def plot_perc(st,dados):\n",
        "    plt.figure(figsize=(20,8))\n",
        "\n",
        "    g = sns.countplot(x=st, data=dados, orient='h')\n",
        "    g.set_title(\"Distribuição do estado dos clientes\", fontsize=20)\n",
        "    g.set_xlabel(\"Estado\", fontsize=17)\n",
        "    g.set_ylabel(\"Contagem\", fontsize=17)\n",
        "    g.set_xticklabels(g.get_xticklabels(),rotation=45)\n",
        "    sizes = []\n",
        "    for p in g.patches:\n",
        "        height = p.get_height()\n",
        "        sizes.append(height)\n",
        "        g.text(p.get_x()+p.get_width()/1.6,\n",
        "            height + 200,\n",
        "            '{:1.2f}%'.format(height/116581*100),\n",
        "            ha=\"center\", va='bottom',fontsize=12) \n",
        "    g.set_ylim(0, max(sizes) * 1.1)"
      ]
    },
    {
      "cell_type": "code",
      "execution_count": null,
      "metadata": {
        "id": "ippcr4SPqZC8",
        "outputId": "d3df579e-4137-4c6b-d0b6-f27e83a0ef32"
      },
      "outputs": [
        {
          "data": {
            "image/png": "[encoded data removed]",
            "text/plain": [
              "<Figure size 1440x576 with 1 Axes>"
            ]
          },
          "metadata": {
            "needs_background": "light"
          },
          "output_type": "display_data"
        }
      ],
      "source": [
        "plot_perc('estado_cliente',df)"
      ]
    },
    {
      "cell_type": "code",
      "execution_count": 6,
      "metadata": {
        "colab": {
          "base_uri": "https://localhost:8080/",
          "height": 427
        },
        "id": "Iat6Bvq8qZC8",
        "outputId": "4c77007a-9710-431e-fd48-82d22cf1feb3"
      },
      "outputs": [
        {
          "output_type": "display_data",
          "data": {
            "text/plain": [
              "<Figure size 1440x576 with 1 Axes>"
            ],
            "image/png": "[encoded data removed]"
          },
          "metadata": {
            "needs_background": "light"
          }
        }
      ],
      "source": [
        "plot_perc('estado_vendedor',df)"
      ]
    },
    {
      "cell_type": "code",
      "execution_count": 7,
      "metadata": {
        "colab": {
          "base_uri": "https://localhost:8080/",
          "height": 450
        },
        "id": "pyxMhl9CqZC9",
        "outputId": "a4e6b5d1-5df7-4ee9-845d-dbd007d4037d"
      },
      "outputs": [
        {
          "output_type": "display_data",
          "data": {
            "text/plain": [
              "<Figure size 1440x576 with 1 Axes>"
            ],
            "image/png": "[encoded data removed]"
          },
          "metadata": {
            "needs_background": "light"
          }
        }
      ],
      "source": [
        "plot_perc('pagamento_tipo',df)"
      ]
    },
    {
      "cell_type": "markdown",
      "metadata": {
        "id": "c5BGI4AwqZC9"
      },
      "source": [
        "- Identificamos primeiramente que a maioria dos clientes realiza compras por cartão de crédito, posteriormente por boleto, voucher e cartão de débito. Seria interessante aumentar as promoções para pagamento à vista (para aumento dos pagamentos com boleto ou cartão de débito).\n",
        "- Também percebe-se que a maioria dos vendedores e compradores estão em SP."
      ]
    },
    {
      "cell_type": "markdown",
      "metadata": {
        "id": "IPUx0YKeqZC-"
      },
      "source": [
        "> Agora que temos um banco de dados completo, podemos salva-lo para utilizar posteriormente. Também vou criar um novo banco de dados apenas com as informações que vou precisar para fazer a análise de recẽncia, frequência e receita."
      ]
    },
    {
      "cell_type": "code",
      "execution_count": 8,
      "metadata": {
        "id": "9uH3aAzAqZC-"
      },
      "outputs": [],
      "source": [
        "df_olist = df[['id_unico_cliente', 'id_cliente', 'horario_pedido', 'item_id', 'preco']]"
      ]
    },
    {
      "cell_type": "code",
      "execution_count": 10,
      "metadata": {
        "id": "_2pl5C07qZC-"
      },
      "outputs": [],
      "source": [
        "df_compra = df.groupby('id_unico_cliente').horario_pedido.max().reset_index()\n",
        "df_compra.columns = ['id_unico_cliente', 'DataMaxCompra']"
      ]
    },
    {
      "cell_type": "code",
      "execution_count": 11,
      "metadata": {
        "id": "TNmsWwcBqZC_"
      },
      "outputs": [],
      "source": [
        "df_compra['DataMaxCompra']= pd.to_datetime(df_compra['DataMaxCompra']) "
      ]
    },
    {
      "cell_type": "markdown",
      "metadata": {
        "id": "ViYb0X_EqZC_"
      },
      "source": [
        "> Precisamos definir agora as três variáveis que utilizaremos para segmentação: **recência**, **frequência** e **receita**. Em inglês, é chamado de método RFM. Este é um método utilizado para analisar o comportamento do cliente e definir segmentos de mercado. :\n",
        "\n",
        "> - Recência: quão recentemente um cliente fez uma compra. É um importante preditor, pois um cliente que comprou há pouco tempo tem mais chance de voltar a comprar do que aquele que comprou há muito tempo, além de apresentar uma probabilidade maior de responder a promoções.\n",
        "- Frequência: com que frequência um cliente faz uma compra.  Se um cliente compra frequentemente, espera-se que ele volte a comprar.\n",
        "- Receita: quanto dinheiro um cliente gasta em compras. Aqueles clientes que gastaram muito têm mais valor para a organização em comparação com aqueles que gastaram menos"
      ]
    },
    {
      "cell_type": "code",
      "execution_count": 12,
      "metadata": {
        "colab": {
          "base_uri": "https://localhost:8080/",
          "height": 206
        },
        "id": "1PqmGL9fqZC_",
        "outputId": "3eca6093-280b-43c5-a605-50621ef0d1b9"
      },
      "outputs": [
        {
          "output_type": "execute_result",
          "data": {
            "text/plain": [
              "                   id_unico_cliente                        id_cliente  \\\n",
              "0  861eff4711a542e4b93843c6dd7febb0  06b8999e2fba1a1fbc88172c00ba8bc7   \n",
              "1  9eae34bbd3a474ec5d07949ca7de67c0  8912fc0c3bbf1e2fbf35819e21706718   \n",
              "2  9eae34bbd3a474ec5d07949ca7de67c0  8912fc0c3bbf1e2fbf35819e21706718   \n",
              "3  3c799d181c34d51f6d44bbbc563024db  f0ac8e5a239118859b1734e1087cbb1f   \n",
              "4  23397e992b09769faf5e66f9e171a241  6bc8d08963a135220ed6c6d098831f84   \n",
              "\n",
              "        horario_pedido  item_id   preco  Recencia  \n",
              "0  2017-05-16 15:05:35        1  124.99       474  \n",
              "1  2017-11-09 00:50:13        1  112.99       298  \n",
              "2  2017-11-09 00:50:13        2  112.99       298  \n",
              "3  2017-05-07 20:11:26        1  124.99       483  \n",
              "4  2018-02-03 19:45:40        1  106.99       211  "
            ],
            "text/html": [
              "\n",
              "  <div id=\"df-0d5aef38-0e3c-4b6d-b68c-cb467e52aab6\">\n",
              "    <div class=\"colab-df-container\">\n",
              "      <div>\n",
              "<style scoped>\n",
              "    .dataframe tbody tr th:only-of-type {\n",
              "        vertical-align: middle;\n",
              "    }\n",
              "\n",
              "    .dataframe tbody tr th {\n",
              "        vertical-align: top;\n",
              "    }\n",
              "\n",
              "    .dataframe thead th {\n",
              "        text-align: right;\n",
              "    }\n",
              "</style>\n",
              "<table border=\"1\" class=\"dataframe\">\n",
              "  <thead>\n",
              "    <tr style=\"text-align: right;\">\n",
              "      <th></th>\n",
              "      <th>id_unico_cliente</th>\n",
              "      <th>id_cliente</th>\n",
              "      <th>horario_pedido</th>\n",
              "      <th>item_id</th>\n",
              "      <th>preco</th>\n",
              "      <th>Recencia</th>\n",
              "    </tr>\n",
              "  </thead>\n",
              "  <tbody>\n",
              "    <tr>\n",
              "      <th>0</th>\n",
              "      <td>861eff4711a542e4b93843c6dd7febb0</td>\n",
              "      <td>06b8999e2fba1a1fbc88172c00ba8bc7</td>\n",
              "      <td>2017-05-16 15:05:35</td>\n",
              "      <td>1</td>\n",
              "      <td>124.99</td>\n",
              "      <td>474</td>\n",
              "    </tr>\n",
              "    <tr>\n",
              "      <th>1</th>\n",
              "      <td>9eae34bbd3a474ec5d07949ca7de67c0</td>\n",
              "      <td>8912fc0c3bbf1e2fbf35819e21706718</td>\n",
              "      <td>2017-11-09 00:50:13</td>\n",
              "      <td>1</td>\n",
              "      <td>112.99</td>\n",
              "      <td>298</td>\n",
              "    </tr>\n",
              "    <tr>\n",
              "      <th>2</th>\n",
              "      <td>9eae34bbd3a474ec5d07949ca7de67c0</td>\n",
              "      <td>8912fc0c3bbf1e2fbf35819e21706718</td>\n",
              "      <td>2017-11-09 00:50:13</td>\n",
              "      <td>2</td>\n",
              "      <td>112.99</td>\n",
              "      <td>298</td>\n",
              "    </tr>\n",
              "    <tr>\n",
              "      <th>3</th>\n",
              "      <td>3c799d181c34d51f6d44bbbc563024db</td>\n",
              "      <td>f0ac8e5a239118859b1734e1087cbb1f</td>\n",
              "      <td>2017-05-07 20:11:26</td>\n",
              "      <td>1</td>\n",
              "      <td>124.99</td>\n",
              "      <td>483</td>\n",
              "    </tr>\n",
              "    <tr>\n",
              "      <th>4</th>\n",
              "      <td>23397e992b09769faf5e66f9e171a241</td>\n",
              "      <td>6bc8d08963a135220ed6c6d098831f84</td>\n",
              "      <td>2018-02-03 19:45:40</td>\n",
              "      <td>1</td>\n",
              "      <td>106.99</td>\n",
              "      <td>211</td>\n",
              "    </tr>\n",
              "  </tbody>\n",
              "</table>\n",
              "</div>\n",
              "      <button class=\"colab-df-convert\" onclick=\"convertToInteractive('df-0d5aef38-0e3c-4b6d-b68c-cb467e52aab6')\"\n",
              "              title=\"Convert this dataframe to an interactive table.\"\n",
              "              style=\"display:none;\">\n",
              "        \n",
              "  <svg xmlns=\"http://www.w3.org/2000/svg\" height=\"24px\"viewBox=\"0 0 24 24\"\n",
              "       width=\"24px\">\n",
              "    <path d=\"M0 0h24v24H0V0z\" fill=\"none\"/>\n",
              "    <path d=\"M18.56 5.44l.94 2.06.94-2.06 2.06-.94-2.06-.94-.94-2.06-.94 2.06-2.06.94zm-11 1L8.5 8.5l.94-2.06 2.06-.94-2.06-.94L8.5 2.5l-.94 2.06-2.06.94zm10 10l.94 2.06.94-2.06 2.06-.94-2.06-.94-.94-2.06-.94 2.06-2.06.94z\"/><path d=\"M17.41 7.96l-1.37-1.37c-.4-.4-.92-.59-1.43-.59-.52 0-1.04.2-1.43.59L10.3 9.45l-7.72 7.72c-.78.78-.78 2.05 0 2.83L4 21.41c.39.39.9.59 1.41.59.51 0 1.02-.2 1.41-.59l7.78-7.78 2.81-2.81c.8-.78.8-2.07 0-2.86zM5.41 20L4 18.59l7.72-7.72 1.47 1.35L5.41 20z\"/>\n",
              "  </svg>\n",
              "      </button>\n",
              "      \n",
              "  <style>\n",
              "    .colab-df-container {\n",
              "      display:flex;\n",
              "      flex-wrap:wrap;\n",
              "      gap: 12px;\n",
              "    }\n",
              "\n",
              "    .colab-df-convert {\n",
              "      background-color: #E8F0FE;\n",
              "      border: none;\n",
              "      border-radius: 50%;\n",
              "      cursor: pointer;\n",
              "      display: none;\n",
              "      fill: #1967D2;\n",
              "      height: 32px;\n",
              "      padding: 0 0 0 0;\n",
              "      width: 32px;\n",
              "    }\n",
              "\n",
              "    .colab-df-convert:hover {\n",
              "      background-color: #E2EBFA;\n",
              "      box-shadow: 0px 1px 2px rgba(60, 64, 67, 0.3), 0px 1px 3px 1px rgba(60, 64, 67, 0.15);\n",
              "      fill: #174EA6;\n",
              "    }\n",
              "\n",
              "    [theme=dark] .colab-df-convert {\n",
              "      background-color: #3B4455;\n",
              "      fill: #D2E3FC;\n",
              "    }\n",
              "\n",
              "    [theme=dark] .colab-df-convert:hover {\n",
              "      background-color: #434B5C;\n",
              "      box-shadow: 0px 1px 3px 1px rgba(0, 0, 0, 0.15);\n",
              "      filter: drop-shadow(0px 1px 2px rgba(0, 0, 0, 0.3));\n",
              "      fill: #FFFFFF;\n",
              "    }\n",
              "  </style>\n",
              "\n",
              "      <script>\n",
              "        const buttonEl =\n",
              "          document.querySelector('#df-0d5aef38-0e3c-4b6d-b68c-cb467e52aab6 button.colab-df-convert');\n",
              "        buttonEl.style.display =\n",
              "          google.colab.kernel.accessAllowed ? 'block' : 'none';\n",
              "\n",
              "        async function convertToInteractive(key) {\n",
              "          const element = document.querySelector('#df-0d5aef38-0e3c-4b6d-b68c-cb467e52aab6');\n",
              "          const dataTable =\n",
              "            await google.colab.kernel.invokeFunction('convertToInteractive',\n",
              "                                                     [key], {});\n",
              "          if (!dataTable) return;\n",
              "\n",
              "          const docLinkHtml = 'Like what you see? Visit the ' +\n",
              "            '<a target=\"_blank\" href=https://colab.research.google.com/notebooks/data_table.ipynb>data table notebook</a>'\n",
              "            + ' to learn more about interactive tables.';\n",
              "          element.innerHTML = '';\n",
              "          dataTable['output_type'] = 'display_data';\n",
              "          await google.colab.output.renderOutput(dataTable, element);\n",
              "          const docLink = document.createElement('div');\n",
              "          docLink.innerHTML = docLinkHtml;\n",
              "          element.appendChild(docLink);\n",
              "        }\n",
              "      </script>\n",
              "    </div>\n",
              "  </div>\n",
              "  "
            ]
          },
          "metadata": {},
          "execution_count": 12
        }
      ],
      "source": [
        "#seleciona o ponto de observação como a data máxima de compra em nosso df\n",
        "df_compra['Recencia'] = (df_compra['DataMaxCompra'].max() - df_compra['DataMaxCompra']).dt.days\n",
        "\n",
        "#junta esse df com o nosso novo chamado df_user\n",
        "df_usuario = pd.merge(df_olist, df_compra[['id_unico_cliente','Recencia']], on='id_unico_cliente')\n",
        "\n",
        "df_usuario.head()"
      ]
    },
    {
      "cell_type": "code",
      "execution_count": null,
      "metadata": {
        "id": "xk9GsnOyqZDA"
      },
      "outputs": [],
      "source": [
        "# plotando a distribuição da feature continua que acabamos de identificar\n",
        "#def dist(dados):\n",
        "#    sns.set(palette='muted', color_codes=True, style='white')\n",
        "#    fig, ax = plt.subplots(figsize=(12, 6))\n",
        "#    sns.despine(left=True)\n",
        "#    sns.distplot(dados, bins=30)\n",
        "#    plt.show()"
      ]
    },
    {
      "cell_type": "code",
      "execution_count": null,
      "metadata": {
        "id": "v8blg549qZDA"
      },
      "outputs": [],
      "source": [
        "#dist(df_usuario['Recencia'])"
      ]
    },
    {
      "cell_type": "code",
      "execution_count": 13,
      "metadata": {
        "id": "wyS1nKvYqZDA"
      },
      "outputs": [],
      "source": [
        "def calcular_wcss(data):\n",
        "    wcss = []\n",
        "    for k in range(1, 10):\n",
        "        kmeans = KMeans(n_clusters=k)\n",
        "        kmeans.fit(X=data)\n",
        "        data[\"clusters\"] = kmeans.labels_\n",
        "        wcss.append(kmeans.inertia_)\n",
        "    return wcss"
      ]
    },
    {
      "cell_type": "markdown",
      "metadata": {
        "id": "BYdD44REqZDA"
      },
      "source": [
        "> Agora precisamos usar o Método Cotovelo, a ideia é rodar o KMeans para várias quantidades diferentes de clusters e dizer qual dessas quantidades é o número ótimo de clusters. Usando a \"regra do cotovelo\", identificamos que a partir de 4 clusters teremos bons resultados. Vou usar 5 apenas para garantir.\n",
        "\n",
        "> O que geralmente acontece ao aumentar a quantidade de clusters no KMeans é que as diferenças entre clusters se tornam muito pequenas, e as diferenças das observações intra-clusters vão aumentando. Então é preciso achar um equilíbrio em que as observações que formam cada agrupamento sejam o mais homogêneas possível e que os agrupamentos formados sejam o mais diferentes um dos outros."
      ]
    },
    {
      "cell_type": "code",
      "execution_count": 14,
      "metadata": {
        "id": "c6Kf8ZL6qZDB"
      },
      "outputs": [],
      "source": [
        "import warnings\n",
        "warnings.filterwarnings(\"ignore\")\n",
        "import seaborn as sns\n",
        "from sklearn.cluster import KMeans\n",
        "\n",
        "df_recencia = df_usuario[['Recencia']]\n",
        "soma_quadrados = calcular_wcss(df_recencia)"
      ]
    },
    {
      "cell_type": "code",
      "execution_count": 15,
      "metadata": {
        "colab": {
          "base_uri": "https://localhost:8080/",
          "height": 345
        },
        "id": "s93SnS4lqZDB",
        "outputId": "e1325038-e5cd-4bd3-ed7c-a5dec0e2c12b"
      },
      "outputs": [
        {
          "output_type": "display_data",
          "data": {
            "text/plain": [
              "<Figure size 720x360 with 1 Axes>"
            ],
            "image/png": "[encoded data removed]"
          },
          "metadata": {
            "needs_background": "light"
          }
        }
      ],
      "source": [
        "plt.figure(figsize=(10, 5))\n",
        "plt.plot(soma_quadrados)\n",
        "plt.xlabel(\"Número de Clusters\")\n",
        "plt.show()"
      ]
    },
    {
      "cell_type": "markdown",
      "metadata": {
        "id": "MOk6cjwxqZDB"
      },
      "source": [
        "> Mas como podemos identificar se o melhor número de clusters é 3, 4 ou 5? Existe uma solução matemática! Primeiramente, definimos uma reta ligando o primeiro ponto (cluster 1) ao último ponto (cluster 9). Então, calculamos a distância de cada ponto até a reta usando a seguinte equação:"
      ]
    },
    {
      "cell_type": "markdown",
      "metadata": {
        "id": "zuvfsE1OqZDB"
      },
      "source": [
        "![](https://miro.medium.com/max/2775/1*9J7Wnh5L0eIcHXBeWlzvNA.png)"
      ]
    },
    {
      "cell_type": "markdown",
      "metadata": {
        "id": "-zBHwJXPqZDC"
      },
      "source": [
        "> Neste caso, P0 é o ponto do cluster 1 e P1 o ponto do cluster 9. O par (x,y) representa as coordenadas de qualquer ponto que a gente queira calcular a distância. Calculando todas as distância, conseguimos determinar o ponto ideal!"
      ]
    },
    {
      "cell_type": "code",
      "execution_count": 16,
      "metadata": {
        "id": "xl6pPrrkqZDC"
      },
      "outputs": [],
      "source": [
        "import math\n",
        "def numero_otimo_clusters(wcss):\n",
        "    x1, y1 = 2, wcss[0]\n",
        "    x2, y2 = 20, wcss[len(wcss)-1]\n",
        "\n",
        "    distancias = []\n",
        "    for i in range(len(wcss)):\n",
        "        x0 = i+2\n",
        "        y0 = wcss[i]\n",
        "        numerador = abs((y2-y1)*x0 - (x2-x1)*y0 + x2*y1 - y2*x1)\n",
        "        denominador = math.sqrt((y2 - y1)**2 + (x2 - x1)**2)\n",
        "        distancias.append(numerador/denominador)\n",
        "    \n",
        "    return distancias.index(max(distancias)) + 2"
      ]
    },
    {
      "cell_type": "code",
      "execution_count": 17,
      "metadata": {
        "id": "7WIoeuxIqZDC"
      },
      "outputs": [],
      "source": [
        "# calculando a soma dos quadrados para as quantidade de clusters\n",
        "soma_quadrados = calcular_wcss(df_recencia)\n",
        "\n",
        "# calculando a quantidade ótima de clusters\n",
        "n = numero_otimo_clusters(soma_quadrados)"
      ]
    },
    {
      "cell_type": "markdown",
      "metadata": {
        "id": "EOM5Lub3qZDC"
      },
      "source": [
        "> E agora o número ideal de clusters!"
      ]
    },
    {
      "cell_type": "code",
      "execution_count": 18,
      "metadata": {
        "colab": {
          "base_uri": "https://localhost:8080/"
        },
        "id": "CnPxEcbfqZDD",
        "outputId": "662d9708-4989-4b04-f1e1-e1affb02e8e2"
      },
      "outputs": [
        {
          "output_type": "execute_result",
          "data": {
            "text/plain": [
              "4"
            ]
          },
          "metadata": {},
          "execution_count": 18
        }
      ],
      "source": [
        "n"
      ]
    },
    {
      "cell_type": "code",
      "execution_count": 19,
      "metadata": {
        "id": "xitCXLBBqZDD"
      },
      "outputs": [],
      "source": [
        "# rodando o kmeans para nossa quantidade ótima de clusters\n",
        "kmeans = KMeans(n_clusters=4)\n",
        "df_usuario['RecenciaCluster'] = kmeans.fit_predict(df_recencia)"
      ]
    },
    {
      "cell_type": "code",
      "execution_count": 20,
      "metadata": {
        "id": "04mZFxngqZDD"
      },
      "outputs": [],
      "source": [
        "#função para ordenar o número de clusters \n",
        "def ordenar_cluster(cluster_nome, target_nome,df,ascending):\n",
        "    novo_nome = 'novo' + cluster_nome\n",
        "    agrupado_por_cluster = df.groupby(cluster_nome)[target_nome].mean().reset_index()\n",
        "    agrupado_por_cluster_ordenado = agrupado_por_cluster.sort_values(by=target_nome,\n",
        "                                                                     ascending=ascending).reset_index(drop=True)\n",
        "    agrupado_por_cluster_ordenado['index'] = agrupado_por_cluster_ordenado.index\n",
        "    juntando_cluster = pd.merge(df,agrupado_por_cluster_ordenado[[cluster_nome,'index']], on=cluster_nome)\n",
        "    removendo_dados = juntando_cluster.drop([cluster_nome],axis=1)\n",
        "    df_final = removendo_dados.rename(columns={\"index\":cluster_nome})\n",
        "    return df_final\n",
        "\n",
        "df_usuario = ordenar_cluster('RecenciaCluster', 'Recencia',df_usuario,False)"
      ]
    },
    {
      "cell_type": "code",
      "execution_count": 21,
      "metadata": {
        "colab": {
          "base_uri": "https://localhost:8080/",
          "height": 206
        },
        "id": "0dtkJ5pJqZDD",
        "outputId": "81bf527b-0f84-4a26-e32e-69ed2701a746"
      },
      "outputs": [
        {
          "output_type": "execute_result",
          "data": {
            "text/plain": [
              "                   count        mean        std    min    25%    50%    75%  \\\n",
              "RecenciaCluster                                                               \n",
              "0                20324.0  490.622269  59.293154  406.0  444.0  481.0  533.0   \n",
              "1                30828.0  320.233294  43.971639  255.0  281.0  314.0  357.0   \n",
              "2                33639.0  187.911204  35.134736  128.0  158.0  187.0  218.0   \n",
              "3                31790.0   66.790878  36.009443    0.0   33.0   67.0  100.0   \n",
              "\n",
              "                   max  \n",
              "RecenciaCluster         \n",
              "0                728.0  \n",
              "1                405.0  \n",
              "2                254.0  \n",
              "3                127.0  "
            ],
            "text/html": [
              "\n",
              "  <div id=\"df-1a2a170e-633e-439a-8df2-384ae13c2e53\">\n",
              "    <div class=\"colab-df-container\">\n",
              "      <div>\n",
              "<style scoped>\n",
              "    .dataframe tbody tr th:only-of-type {\n",
              "        vertical-align: middle;\n",
              "    }\n",
              "\n",
              "    .dataframe tbody tr th {\n",
              "        vertical-align: top;\n",
              "    }\n",
              "\n",
              "    .dataframe thead th {\n",
              "        text-align: right;\n",
              "    }\n",
              "</style>\n",
              "<table border=\"1\" class=\"dataframe\">\n",
              "  <thead>\n",
              "    <tr style=\"text-align: right;\">\n",
              "      <th></th>\n",
              "      <th>count</th>\n",
              "      <th>mean</th>\n",
              "      <th>std</th>\n",
              "      <th>min</th>\n",
              "      <th>25%</th>\n",
              "      <th>50%</th>\n",
              "      <th>75%</th>\n",
              "      <th>max</th>\n",
              "    </tr>\n",
              "    <tr>\n",
              "      <th>RecenciaCluster</th>\n",
              "      <th></th>\n",
              "      <th></th>\n",
              "      <th></th>\n",
              "      <th></th>\n",
              "      <th></th>\n",
              "      <th></th>\n",
              "      <th></th>\n",
              "      <th></th>\n",
              "    </tr>\n",
              "  </thead>\n",
              "  <tbody>\n",
              "    <tr>\n",
              "      <th>0</th>\n",
              "      <td>20324.0</td>\n",
              "      <td>490.622269</td>\n",
              "      <td>59.293154</td>\n",
              "      <td>406.0</td>\n",
              "      <td>444.0</td>\n",
              "      <td>481.0</td>\n",
              "      <td>533.0</td>\n",
              "      <td>728.0</td>\n",
              "    </tr>\n",
              "    <tr>\n",
              "      <th>1</th>\n",
              "      <td>30828.0</td>\n",
              "      <td>320.233294</td>\n",
              "      <td>43.971639</td>\n",
              "      <td>255.0</td>\n",
              "      <td>281.0</td>\n",
              "      <td>314.0</td>\n",
              "      <td>357.0</td>\n",
              "      <td>405.0</td>\n",
              "    </tr>\n",
              "    <tr>\n",
              "      <th>2</th>\n",
              "      <td>33639.0</td>\n",
              "      <td>187.911204</td>\n",
              "      <td>35.134736</td>\n",
              "      <td>128.0</td>\n",
              "      <td>158.0</td>\n",
              "      <td>187.0</td>\n",
              "      <td>218.0</td>\n",
              "      <td>254.0</td>\n",
              "    </tr>\n",
              "    <tr>\n",
              "      <th>3</th>\n",
              "      <td>31790.0</td>\n",
              "      <td>66.790878</td>\n",
              "      <td>36.009443</td>\n",
              "      <td>0.0</td>\n",
              "      <td>33.0</td>\n",
              "      <td>67.0</td>\n",
              "      <td>100.0</td>\n",
              "      <td>127.0</td>\n",
              "    </tr>\n",
              "  </tbody>\n",
              "</table>\n",
              "</div>\n",
              "      <button class=\"colab-df-convert\" onclick=\"convertToInteractive('df-1a2a170e-633e-439a-8df2-384ae13c2e53')\"\n",
              "              title=\"Convert this dataframe to an interactive table.\"\n",
              "              style=\"display:none;\">\n",
              "        \n",
              "  <svg xmlns=\"http://www.w3.org/2000/svg\" height=\"24px\"viewBox=\"0 0 24 24\"\n",
              "       width=\"24px\">\n",
              "    <path d=\"M0 0h24v24H0V0z\" fill=\"none\"/>\n",
              "    <path d=\"M18.56 5.44l.94 2.06.94-2.06 2.06-.94-2.06-.94-.94-2.06-.94 2.06-2.06.94zm-11 1L8.5 8.5l.94-2.06 2.06-.94-2.06-.94L8.5 2.5l-.94 2.06-2.06.94zm10 10l.94 2.06.94-2.06 2.06-.94-2.06-.94-.94-2.06-.94 2.06-2.06.94z\"/><path d=\"M17.41 7.96l-1.37-1.37c-.4-.4-.92-.59-1.43-.59-.52 0-1.04.2-1.43.59L10.3 9.45l-7.72 7.72c-.78.78-.78 2.05 0 2.83L4 21.41c.39.39.9.59 1.41.59.51 0 1.02-.2 1.41-.59l7.78-7.78 2.81-2.81c.8-.78.8-2.07 0-2.86zM5.41 20L4 18.59l7.72-7.72 1.47 1.35L5.41 20z\"/>\n",
              "  </svg>\n",
              "      </button>\n",
              "      \n",
              "  <style>\n",
              "    .colab-df-container {\n",
              "      display:flex;\n",
              "      flex-wrap:wrap;\n",
              "      gap: 12px;\n",
              "    }\n",
              "\n",
              "    .colab-df-convert {\n",
              "      background-color: #E8F0FE;\n",
              "      border: none;\n",
              "      border-radius: 50%;\n",
              "      cursor: pointer;\n",
              "      display: none;\n",
              "      fill: #1967D2;\n",
              "      height: 32px;\n",
              "      padding: 0 0 0 0;\n",
              "      width: 32px;\n",
              "    }\n",
              "\n",
              "    .colab-df-convert:hover {\n",
              "      background-color: #E2EBFA;\n",
              "      box-shadow: 0px 1px 2px rgba(60, 64, 67, 0.3), 0px 1px 3px 1px rgba(60, 64, 67, 0.15);\n",
              "      fill: #174EA6;\n",
              "    }\n",
              "\n",
              "    [theme=dark] .colab-df-convert {\n",
              "      background-color: #3B4455;\n",
              "      fill: #D2E3FC;\n",
              "    }\n",
              "\n",
              "    [theme=dark] .colab-df-convert:hover {\n",
              "      background-color: #434B5C;\n",
              "      box-shadow: 0px 1px 3px 1px rgba(0, 0, 0, 0.15);\n",
              "      filter: drop-shadow(0px 1px 2px rgba(0, 0, 0, 0.3));\n",
              "      fill: #FFFFFF;\n",
              "    }\n",
              "  </style>\n",
              "\n",
              "      <script>\n",
              "        const buttonEl =\n",
              "          document.querySelector('#df-1a2a170e-633e-439a-8df2-384ae13c2e53 button.colab-df-convert');\n",
              "        buttonEl.style.display =\n",
              "          google.colab.kernel.accessAllowed ? 'block' : 'none';\n",
              "\n",
              "        async function convertToInteractive(key) {\n",
              "          const element = document.querySelector('#df-1a2a170e-633e-439a-8df2-384ae13c2e53');\n",
              "          const dataTable =\n",
              "            await google.colab.kernel.invokeFunction('convertToInteractive',\n",
              "                                                     [key], {});\n",
              "          if (!dataTable) return;\n",
              "\n",
              "          const docLinkHtml = 'Like what you see? Visit the ' +\n",
              "            '<a target=\"_blank\" href=https://colab.research.google.com/notebooks/data_table.ipynb>data table notebook</a>'\n",
              "            + ' to learn more about interactive tables.';\n",
              "          element.innerHTML = '';\n",
              "          dataTable['output_type'] = 'display_data';\n",
              "          await google.colab.output.renderOutput(dataTable, element);\n",
              "          const docLink = document.createElement('div');\n",
              "          docLink.innerHTML = docLinkHtml;\n",
              "          element.appendChild(docLink);\n",
              "        }\n",
              "      </script>\n",
              "    </div>\n",
              "  </div>\n",
              "  "
            ]
          },
          "metadata": {},
          "execution_count": 21
        }
      ],
      "source": [
        "df_usuario.groupby('RecenciaCluster')['Recencia'].describe()"
      ]
    },
    {
      "cell_type": "code",
      "execution_count": 22,
      "metadata": {
        "id": "L7MrKPyXqZDD"
      },
      "outputs": [],
      "source": [
        "# cria um df com a quantidade de ordens para cada cliente\n",
        "df_frequencia = df.groupby('id_unico_cliente').pedido_aprovado.count().reset_index()\n",
        "df_frequencia.columns = ['id_unico_cliente','Frequencia']\n",
        "\n",
        "# adiciona esses dados em nosso df principal\n",
        "df_usuario = pd.merge(df_usuario, df_frequencia, on='id_unico_cliente')"
      ]
    },
    {
      "cell_type": "code",
      "execution_count": 23,
      "metadata": {
        "colab": {
          "base_uri": "https://localhost:8080/",
          "height": 357
        },
        "id": "2oOOGVucqZDE",
        "outputId": "8f57f106-12a8-4a04-be75-74c872041965"
      },
      "outputs": [
        {
          "output_type": "execute_result",
          "data": {
            "text/plain": [
              "                   id_unico_cliente                        id_cliente  \\\n",
              "0  861eff4711a542e4b93843c6dd7febb0  06b8999e2fba1a1fbc88172c00ba8bc7   \n",
              "1  3c799d181c34d51f6d44bbbc563024db  f0ac8e5a239118859b1734e1087cbb1f   \n",
              "2  567ab47ca4deb92d46dbf54dce07d0a7  fd3a0b1bd209f0e7d420c9c3d1127613   \n",
              "3  f40ab89b622248b7ca125af4b486b887  fbd40c083aa8cddebb5265b2ba6aaf2e   \n",
              "4  749943913a9851a39c9baf51877fbab6  10558ef4afea173bfb5e2cbe3d5b0bb5   \n",
              "\n",
              "        horario_pedido  item_id   preco  Recencia  RecenciaCluster  Frequencia  \n",
              "0  2017-05-16 15:05:35        1  124.99       474                0           1  \n",
              "1  2017-05-07 20:11:26        1  124.99       483                0           1  \n",
              "2  2017-03-23 15:10:17        1  126.99       528                0           1  \n",
              "3  2017-05-16 10:00:49        1  124.99       474                0           1  \n",
              "4  2017-03-18 23:04:36        1  126.99       533                0           1  "
            ],
            "text/html": [
              "\n",
              "  <div id=\"df-9a9cf6e4-856d-4c39-b091-3c6e00337db1\">\n",
              "    <div class=\"colab-df-container\">\n",
              "      <div>\n",
              "<style scoped>\n",
              "    .dataframe tbody tr th:only-of-type {\n",
              "        vertical-align: middle;\n",
              "    }\n",
              "\n",
              "    .dataframe tbody tr th {\n",
              "        vertical-align: top;\n",
              "    }\n",
              "\n",
              "    .dataframe thead th {\n",
              "        text-align: right;\n",
              "    }\n",
              "</style>\n",
              "<table border=\"1\" class=\"dataframe\">\n",
              "  <thead>\n",
              "    <tr style=\"text-align: right;\">\n",
              "      <th></th>\n",
              "      <th>id_unico_cliente</th>\n",
              "      <th>id_cliente</th>\n",
              "      <th>horario_pedido</th>\n",
              "      <th>item_id</th>\n",
              "      <th>preco</th>\n",
              "      <th>Recencia</th>\n",
              "      <th>RecenciaCluster</th>\n",
              "      <th>Frequencia</th>\n",
              "    </tr>\n",
              "  </thead>\n",
              "  <tbody>\n",
              "    <tr>\n",
              "      <th>0</th>\n",
              "      <td>861eff4711a542e4b93843c6dd7febb0</td>\n",
              "      <td>06b8999e2fba1a1fbc88172c00ba8bc7</td>\n",
              "      <td>2017-05-16 15:05:35</td>\n",
              "      <td>1</td>\n",
              "      <td>124.99</td>\n",
              "      <td>474</td>\n",
              "      <td>0</td>\n",
              "      <td>1</td>\n",
              "    </tr>\n",
              "    <tr>\n",
              "      <th>1</th>\n",
              "      <td>3c799d181c34d51f6d44bbbc563024db</td>\n",
              "      <td>f0ac8e5a239118859b1734e1087cbb1f</td>\n",
              "      <td>2017-05-07 20:11:26</td>\n",
              "      <td>1</td>\n",
              "      <td>124.99</td>\n",
              "      <td>483</td>\n",
              "      <td>0</td>\n",
              "      <td>1</td>\n",
              "    </tr>\n",
              "    <tr>\n",
              "      <th>2</th>\n",
              "      <td>567ab47ca4deb92d46dbf54dce07d0a7</td>\n",
              "      <td>fd3a0b1bd209f0e7d420c9c3d1127613</td>\n",
              "      <td>2017-03-23 15:10:17</td>\n",
              "      <td>1</td>\n",
              "      <td>126.99</td>\n",
              "      <td>528</td>\n",
              "      <td>0</td>\n",
              "      <td>1</td>\n",
              "    </tr>\n",
              "    <tr>\n",
              "      <th>3</th>\n",
              "      <td>f40ab89b622248b7ca125af4b486b887</td>\n",
              "      <td>fbd40c083aa8cddebb5265b2ba6aaf2e</td>\n",
              "      <td>2017-05-16 10:00:49</td>\n",
              "      <td>1</td>\n",
              "      <td>124.99</td>\n",
              "      <td>474</td>\n",
              "      <td>0</td>\n",
              "      <td>1</td>\n",
              "    </tr>\n",
              "    <tr>\n",
              "      <th>4</th>\n",
              "      <td>749943913a9851a39c9baf51877fbab6</td>\n",
              "      <td>10558ef4afea173bfb5e2cbe3d5b0bb5</td>\n",
              "      <td>2017-03-18 23:04:36</td>\n",
              "      <td>1</td>\n",
              "      <td>126.99</td>\n",
              "      <td>533</td>\n",
              "      <td>0</td>\n",
              "      <td>1</td>\n",
              "    </tr>\n",
              "  </tbody>\n",
              "</table>\n",
              "</div>\n",
              "      <button class=\"colab-df-convert\" onclick=\"convertToInteractive('df-9a9cf6e4-856d-4c39-b091-3c6e00337db1')\"\n",
              "              title=\"Convert this dataframe to an interactive table.\"\n",
              "              style=\"display:none;\">\n",
              "        \n",
              "  <svg xmlns=\"http://www.w3.org/2000/svg\" height=\"24px\"viewBox=\"0 0 24 24\"\n",
              "       width=\"24px\">\n",
              "    <path d=\"M0 0h24v24H0V0z\" fill=\"none\"/>\n",
              "    <path d=\"M18.56 5.44l.94 2.06.94-2.06 2.06-.94-2.06-.94-.94-2.06-.94 2.06-2.06.94zm-11 1L8.5 8.5l.94-2.06 2.06-.94-2.06-.94L8.5 2.5l-.94 2.06-2.06.94zm10 10l.94 2.06.94-2.06 2.06-.94-2.06-.94-.94-2.06-.94 2.06-2.06.94z\"/><path d=\"M17.41 7.96l-1.37-1.37c-.4-.4-.92-.59-1.43-.59-.52 0-1.04.2-1.43.59L10.3 9.45l-7.72 7.72c-.78.78-.78 2.05 0 2.83L4 21.41c.39.39.9.59 1.41.59.51 0 1.02-.2 1.41-.59l7.78-7.78 2.81-2.81c.8-.78.8-2.07 0-2.86zM5.41 20L4 18.59l7.72-7.72 1.47 1.35L5.41 20z\"/>\n",
              "  </svg>\n",
              "      </button>\n",
              "      \n",
              "  <style>\n",
              "    .colab-df-container {\n",
              "      display:flex;\n",
              "      flex-wrap:wrap;\n",
              "      gap: 12px;\n",
              "    }\n",
              "\n",
              "    .colab-df-convert {\n",
              "      background-color: #E8F0FE;\n",
              "      border: none;\n",
              "      border-radius: 50%;\n",
              "      cursor: pointer;\n",
              "      display: none;\n",
              "      fill: #1967D2;\n",
              "      height: 32px;\n",
              "      padding: 0 0 0 0;\n",
              "      width: 32px;\n",
              "    }\n",
              "\n",
              "    .colab-df-convert:hover {\n",
              "      background-color: #E2EBFA;\n",
              "      box-shadow: 0px 1px 2px rgba(60, 64, 67, 0.3), 0px 1px 3px 1px rgba(60, 64, 67, 0.15);\n",
              "      fill: #174EA6;\n",
              "    }\n",
              "\n",
              "    [theme=dark] .colab-df-convert {\n",
              "      background-color: #3B4455;\n",
              "      fill: #D2E3FC;\n",
              "    }\n",
              "\n",
              "    [theme=dark] .colab-df-convert:hover {\n",
              "      background-color: #434B5C;\n",
              "      box-shadow: 0px 1px 3px 1px rgba(0, 0, 0, 0.15);\n",
              "      filter: drop-shadow(0px 1px 2px rgba(0, 0, 0, 0.3));\n",
              "      fill: #FFFFFF;\n",
              "    }\n",
              "  </style>\n",
              "\n",
              "      <script>\n",
              "        const buttonEl =\n",
              "          document.querySelector('#df-9a9cf6e4-856d-4c39-b091-3c6e00337db1 button.colab-df-convert');\n",
              "        buttonEl.style.display =\n",
              "          google.colab.kernel.accessAllowed ? 'block' : 'none';\n",
              "\n",
              "        async function convertToInteractive(key) {\n",
              "          const element = document.querySelector('#df-9a9cf6e4-856d-4c39-b091-3c6e00337db1');\n",
              "          const dataTable =\n",
              "            await google.colab.kernel.invokeFunction('convertToInteractive',\n",
              "                                                     [key], {});\n",
              "          if (!dataTable) return;\n",
              "\n",
              "          const docLinkHtml = 'Like what you see? Visit the ' +\n",
              "            '<a target=\"_blank\" href=https://colab.research.google.com/notebooks/data_table.ipynb>data table notebook</a>'\n",
              "            + ' to learn more about interactive tables.';\n",
              "          element.innerHTML = '';\n",
              "          dataTable['output_type'] = 'display_data';\n",
              "          await google.colab.output.renderOutput(dataTable, element);\n",
              "          const docLink = document.createElement('div');\n",
              "          docLink.innerHTML = docLinkHtml;\n",
              "          element.appendChild(docLink);\n",
              "        }\n",
              "      </script>\n",
              "    </div>\n",
              "  </div>\n",
              "  "
            ]
          },
          "metadata": {},
          "execution_count": 23
        }
      ],
      "source": [
        "df_usuario.head()"
      ]
    },
    {
      "cell_type": "code",
      "execution_count": 24,
      "metadata": {
        "id": "2eSRLMCxqZDE"
      },
      "outputs": [],
      "source": [
        "# rodando o kmeans para nossa quantidade ótima de clusters\n",
        "df_frequencia = df_usuario[['Frequencia']]\n",
        "kmeans = KMeans(n_clusters=4)\n",
        "df_usuario['FrequenciaCluster'] = kmeans.fit_predict(df_frequencia)"
      ]
    },
    {
      "cell_type": "code",
      "execution_count": 25,
      "metadata": {
        "colab": {
          "base_uri": "https://localhost:8080/",
          "height": 206
        },
        "id": "6bDU_w7IqZDE",
        "outputId": "be6a9482-15ed-46ef-a347-7dedb7802511"
      },
      "outputs": [
        {
          "output_type": "execute_result",
          "data": {
            "text/plain": [
              "                      count       mean       std   min   25%   50%   75%   max\n",
              "FrequenciaCluster                                                             \n",
              "0                  106570.0   1.306343  0.570539   0.0   1.0   1.0   2.0   3.0\n",
              "1                     619.0  22.844911  6.267127  15.0  19.0  22.0  24.0  38.0\n",
              "2                    9317.0   5.744875  2.312449   4.0   4.0   5.0   6.0  14.0\n",
              "3                      75.0  75.000000  0.000000  75.0  75.0  75.0  75.0  75.0"
            ],
            "text/html": [
              "\n",
              "  <div id=\"df-07caf954-ddc8-4f59-8785-1d71c1725e44\">\n",
              "    <div class=\"colab-df-container\">\n",
              "      <div>\n",
              "<style scoped>\n",
              "    .dataframe tbody tr th:only-of-type {\n",
              "        vertical-align: middle;\n",
              "    }\n",
              "\n",
              "    .dataframe tbody tr th {\n",
              "        vertical-align: top;\n",
              "    }\n",
              "\n",
              "    .dataframe thead th {\n",
              "        text-align: right;\n",
              "    }\n",
              "</style>\n",
              "<table border=\"1\" class=\"dataframe\">\n",
              "  <thead>\n",
              "    <tr style=\"text-align: right;\">\n",
              "      <th></th>\n",
              "      <th>count</th>\n",
              "      <th>mean</th>\n",
              "      <th>std</th>\n",
              "      <th>min</th>\n",
              "      <th>25%</th>\n",
              "      <th>50%</th>\n",
              "      <th>75%</th>\n",
              "      <th>max</th>\n",
              "    </tr>\n",
              "    <tr>\n",
              "      <th>FrequenciaCluster</th>\n",
              "      <th></th>\n",
              "      <th></th>\n",
              "      <th></th>\n",
              "      <th></th>\n",
              "      <th></th>\n",
              "      <th></th>\n",
              "      <th></th>\n",
              "      <th></th>\n",
              "    </tr>\n",
              "  </thead>\n",
              "  <tbody>\n",
              "    <tr>\n",
              "      <th>0</th>\n",
              "      <td>106570.0</td>\n",
              "      <td>1.306343</td>\n",
              "      <td>0.570539</td>\n",
              "      <td>0.0</td>\n",
              "      <td>1.0</td>\n",
              "      <td>1.0</td>\n",
              "      <td>2.0</td>\n",
              "      <td>3.0</td>\n",
              "    </tr>\n",
              "    <tr>\n",
              "      <th>1</th>\n",
              "      <td>619.0</td>\n",
              "      <td>22.844911</td>\n",
              "      <td>6.267127</td>\n",
              "      <td>15.0</td>\n",
              "      <td>19.0</td>\n",
              "      <td>22.0</td>\n",
              "      <td>24.0</td>\n",
              "      <td>38.0</td>\n",
              "    </tr>\n",
              "    <tr>\n",
              "      <th>2</th>\n",
              "      <td>9317.0</td>\n",
              "      <td>5.744875</td>\n",
              "      <td>2.312449</td>\n",
              "      <td>4.0</td>\n",
              "      <td>4.0</td>\n",
              "      <td>5.0</td>\n",
              "      <td>6.0</td>\n",
              "      <td>14.0</td>\n",
              "    </tr>\n",
              "    <tr>\n",
              "      <th>3</th>\n",
              "      <td>75.0</td>\n",
              "      <td>75.000000</td>\n",
              "      <td>0.000000</td>\n",
              "      <td>75.0</td>\n",
              "      <td>75.0</td>\n",
              "      <td>75.0</td>\n",
              "      <td>75.0</td>\n",
              "      <td>75.0</td>\n",
              "    </tr>\n",
              "  </tbody>\n",
              "</table>\n",
              "</div>\n",
              "      <button class=\"colab-df-convert\" onclick=\"convertToInteractive('df-07caf954-ddc8-4f59-8785-1d71c1725e44')\"\n",
              "              title=\"Convert this dataframe to an interactive table.\"\n",
              "              style=\"display:none;\">\n",
              "        \n",
              "  <svg xmlns=\"http://www.w3.org/2000/svg\" height=\"24px\"viewBox=\"0 0 24 24\"\n",
              "       width=\"24px\">\n",
              "    <path d=\"M0 0h24v24H0V0z\" fill=\"none\"/>\n",
              "    <path d=\"M18.56 5.44l.94 2.06.94-2.06 2.06-.94-2.06-.94-.94-2.06-.94 2.06-2.06.94zm-11 1L8.5 8.5l.94-2.06 2.06-.94-2.06-.94L8.5 2.5l-.94 2.06-2.06.94zm10 10l.94 2.06.94-2.06 2.06-.94-2.06-.94-.94-2.06-.94 2.06-2.06.94z\"/><path d=\"M17.41 7.96l-1.37-1.37c-.4-.4-.92-.59-1.43-.59-.52 0-1.04.2-1.43.59L10.3 9.45l-7.72 7.72c-.78.78-.78 2.05 0 2.83L4 21.41c.39.39.9.59 1.41.59.51 0 1.02-.2 1.41-.59l7.78-7.78 2.81-2.81c.8-.78.8-2.07 0-2.86zM5.41 20L4 18.59l7.72-7.72 1.47 1.35L5.41 20z\"/>\n",
              "  </svg>\n",
              "      </button>\n",
              "      \n",
              "  <style>\n",
              "    .colab-df-container {\n",
              "      display:flex;\n",
              "      flex-wrap:wrap;\n",
              "      gap: 12px;\n",
              "    }\n",
              "\n",
              "    .colab-df-convert {\n",
              "      background-color: #E8F0FE;\n",
              "      border: none;\n",
              "      border-radius: 50%;\n",
              "      cursor: pointer;\n",
              "      display: none;\n",
              "      fill: #1967D2;\n",
              "      height: 32px;\n",
              "      padding: 0 0 0 0;\n",
              "      width: 32px;\n",
              "    }\n",
              "\n",
              "    .colab-df-convert:hover {\n",
              "      background-color: #E2EBFA;\n",
              "      box-shadow: 0px 1px 2px rgba(60, 64, 67, 0.3), 0px 1px 3px 1px rgba(60, 64, 67, 0.15);\n",
              "      fill: #174EA6;\n",
              "    }\n",
              "\n",
              "    [theme=dark] .colab-df-convert {\n",
              "      background-color: #3B4455;\n",
              "      fill: #D2E3FC;\n",
              "    }\n",
              "\n",
              "    [theme=dark] .colab-df-convert:hover {\n",
              "      background-color: #434B5C;\n",
              "      box-shadow: 0px 1px 3px 1px rgba(0, 0, 0, 0.15);\n",
              "      filter: drop-shadow(0px 1px 2px rgba(0, 0, 0, 0.3));\n",
              "      fill: #FFFFFF;\n",
              "    }\n",
              "  </style>\n",
              "\n",
              "      <script>\n",
              "        const buttonEl =\n",
              "          document.querySelector('#df-07caf954-ddc8-4f59-8785-1d71c1725e44 button.colab-df-convert');\n",
              "        buttonEl.style.display =\n",
              "          google.colab.kernel.accessAllowed ? 'block' : 'none';\n",
              "\n",
              "        async function convertToInteractive(key) {\n",
              "          const element = document.querySelector('#df-07caf954-ddc8-4f59-8785-1d71c1725e44');\n",
              "          const dataTable =\n",
              "            await google.colab.kernel.invokeFunction('convertToInteractive',\n",
              "                                                     [key], {});\n",
              "          if (!dataTable) return;\n",
              "\n",
              "          const docLinkHtml = 'Like what you see? Visit the ' +\n",
              "            '<a target=\"_blank\" href=https://colab.research.google.com/notebooks/data_table.ipynb>data table notebook</a>'\n",
              "            + ' to learn more about interactive tables.';\n",
              "          element.innerHTML = '';\n",
              "          dataTable['output_type'] = 'display_data';\n",
              "          await google.colab.output.renderOutput(dataTable, element);\n",
              "          const docLink = document.createElement('div');\n",
              "          docLink.innerHTML = docLinkHtml;\n",
              "          element.appendChild(docLink);\n",
              "        }\n",
              "      </script>\n",
              "    </div>\n",
              "  </div>\n",
              "  "
            ]
          },
          "metadata": {},
          "execution_count": 25
        }
      ],
      "source": [
        "# ordena os clusters de frequência\n",
        "df_usuario.groupby('FrequenciaCluster')['Frequencia'].describe()"
      ]
    },
    {
      "cell_type": "code",
      "execution_count": 26,
      "metadata": {
        "id": "VpOHPgJtqZDE"
      },
      "outputs": [],
      "source": [
        "#calcula a receita para cada cliente\n",
        "df_receita = df.groupby('id_unico_cliente').pagamento_valor.sum().reset_index()\n",
        "\n",
        "#junta com o df principal\n",
        "df_usuario = pd.merge(df_usuario, df_receita, on='id_unico_cliente')"
      ]
    },
    {
      "cell_type": "code",
      "execution_count": 27,
      "metadata": {
        "id": "8VO5_EXHqZDF"
      },
      "outputs": [],
      "source": [
        "# rodando o kmeans para nossa quantidade ótima de clusters\n",
        "df_pagamento = df_usuario[['pagamento_valor']]\n",
        "kmeans = KMeans(n_clusters=4)\n",
        "df_usuario['ReceitaCluster'] = kmeans.fit_predict(df_pagamento)"
      ]
    },
    {
      "cell_type": "code",
      "execution_count": 28,
      "metadata": {
        "colab": {
          "base_uri": "https://localhost:8080/",
          "height": 206
        },
        "id": "QGzOYEiVqZDF",
        "outputId": "0731f307-0034-45e7-f7f0-eb3f86445ff1"
      },
      "outputs": [
        {
          "output_type": "execute_result",
          "data": {
            "text/plain": [
              "                   count           mean           std        min        25%  \\\n",
              "ReceitaCluster                                                                \n",
              "0                 1665.0    5510.153423   2784.346269    2889.60    3472.96   \n",
              "1                  199.0   26914.634523  10065.864450   16313.60   19167.26   \n",
              "2                    8.0  109312.640000      0.000000  109312.64  109312.64   \n",
              "3               114709.0     256.843780    360.390633       9.59      69.85   \n",
              "\n",
              "                      50%        75%        max  \n",
              "ReceitaCluster                                   \n",
              "0                 4345.50    6718.39   14963.64  \n",
              "1                22346.60   30186.00   45256.00  \n",
              "2               109312.64  109312.64  109312.64  \n",
              "3                  132.49     268.77    2869.25  "
            ],
            "text/html": [
              "\n",
              "  <div id=\"df-5d60e862-a351-49a8-b5c6-60e71f1f2da6\">\n",
              "    <div class=\"colab-df-container\">\n",
              "      <div>\n",
              "<style scoped>\n",
              "    .dataframe tbody tr th:only-of-type {\n",
              "        vertical-align: middle;\n",
              "    }\n",
              "\n",
              "    .dataframe tbody tr th {\n",
              "        vertical-align: top;\n",
              "    }\n",
              "\n",
              "    .dataframe thead th {\n",
              "        text-align: right;\n",
              "    }\n",
              "</style>\n",
              "<table border=\"1\" class=\"dataframe\">\n",
              "  <thead>\n",
              "    <tr style=\"text-align: right;\">\n",
              "      <th></th>\n",
              "      <th>count</th>\n",
              "      <th>mean</th>\n",
              "      <th>std</th>\n",
              "      <th>min</th>\n",
              "      <th>25%</th>\n",
              "      <th>50%</th>\n",
              "      <th>75%</th>\n",
              "      <th>max</th>\n",
              "    </tr>\n",
              "    <tr>\n",
              "      <th>ReceitaCluster</th>\n",
              "      <th></th>\n",
              "      <th></th>\n",
              "      <th></th>\n",
              "      <th></th>\n",
              "      <th></th>\n",
              "      <th></th>\n",
              "      <th></th>\n",
              "      <th></th>\n",
              "    </tr>\n",
              "  </thead>\n",
              "  <tbody>\n",
              "    <tr>\n",
              "      <th>0</th>\n",
              "      <td>1665.0</td>\n",
              "      <td>5510.153423</td>\n",
              "      <td>2784.346269</td>\n",
              "      <td>2889.60</td>\n",
              "      <td>3472.96</td>\n",
              "      <td>4345.50</td>\n",
              "      <td>6718.39</td>\n",
              "      <td>14963.64</td>\n",
              "    </tr>\n",
              "    <tr>\n",
              "      <th>1</th>\n",
              "      <td>199.0</td>\n",
              "      <td>26914.634523</td>\n",
              "      <td>10065.864450</td>\n",
              "      <td>16313.60</td>\n",
              "      <td>19167.26</td>\n",
              "      <td>22346.60</td>\n",
              "      <td>30186.00</td>\n",
              "      <td>45256.00</td>\n",
              "    </tr>\n",
              "    <tr>\n",
              "      <th>2</th>\n",
              "      <td>8.0</td>\n",
              "      <td>109312.640000</td>\n",
              "      <td>0.000000</td>\n",
              "      <td>109312.64</td>\n",
              "      <td>109312.64</td>\n",
              "      <td>109312.64</td>\n",
              "      <td>109312.64</td>\n",
              "      <td>109312.64</td>\n",
              "    </tr>\n",
              "    <tr>\n",
              "      <th>3</th>\n",
              "      <td>114709.0</td>\n",
              "      <td>256.843780</td>\n",
              "      <td>360.390633</td>\n",
              "      <td>9.59</td>\n",
              "      <td>69.85</td>\n",
              "      <td>132.49</td>\n",
              "      <td>268.77</td>\n",
              "      <td>2869.25</td>\n",
              "    </tr>\n",
              "  </tbody>\n",
              "</table>\n",
              "</div>\n",
              "      <button class=\"colab-df-convert\" onclick=\"convertToInteractive('df-5d60e862-a351-49a8-b5c6-60e71f1f2da6')\"\n",
              "              title=\"Convert this dataframe to an interactive table.\"\n",
              "              style=\"display:none;\">\n",
              "        \n",
              "  <svg xmlns=\"http://www.w3.org/2000/svg\" height=\"24px\"viewBox=\"0 0 24 24\"\n",
              "       width=\"24px\">\n",
              "    <path d=\"M0 0h24v24H0V0z\" fill=\"none\"/>\n",
              "    <path d=\"M18.56 5.44l.94 2.06.94-2.06 2.06-.94-2.06-.94-.94-2.06-.94 2.06-2.06.94zm-11 1L8.5 8.5l.94-2.06 2.06-.94-2.06-.94L8.5 2.5l-.94 2.06-2.06.94zm10 10l.94 2.06.94-2.06 2.06-.94-2.06-.94-.94-2.06-.94 2.06-2.06.94z\"/><path d=\"M17.41 7.96l-1.37-1.37c-.4-.4-.92-.59-1.43-.59-.52 0-1.04.2-1.43.59L10.3 9.45l-7.72 7.72c-.78.78-.78 2.05 0 2.83L4 21.41c.39.39.9.59 1.41.59.51 0 1.02-.2 1.41-.59l7.78-7.78 2.81-2.81c.8-.78.8-2.07 0-2.86zM5.41 20L4 18.59l7.72-7.72 1.47 1.35L5.41 20z\"/>\n",
              "  </svg>\n",
              "      </button>\n",
              "      \n",
              "  <style>\n",
              "    .colab-df-container {\n",
              "      display:flex;\n",
              "      flex-wrap:wrap;\n",
              "      gap: 12px;\n",
              "    }\n",
              "\n",
              "    .colab-df-convert {\n",
              "      background-color: #E8F0FE;\n",
              "      border: none;\n",
              "      border-radius: 50%;\n",
              "      cursor: pointer;\n",
              "      display: none;\n",
              "      fill: #1967D2;\n",
              "      height: 32px;\n",
              "      padding: 0 0 0 0;\n",
              "      width: 32px;\n",
              "    }\n",
              "\n",
              "    .colab-df-convert:hover {\n",
              "      background-color: #E2EBFA;\n",
              "      box-shadow: 0px 1px 2px rgba(60, 64, 67, 0.3), 0px 1px 3px 1px rgba(60, 64, 67, 0.15);\n",
              "      fill: #174EA6;\n",
              "    }\n",
              "\n",
              "    [theme=dark] .colab-df-convert {\n",
              "      background-color: #3B4455;\n",
              "      fill: #D2E3FC;\n",
              "    }\n",
              "\n",
              "    [theme=dark] .colab-df-convert:hover {\n",
              "      background-color: #434B5C;\n",
              "      box-shadow: 0px 1px 3px 1px rgba(0, 0, 0, 0.15);\n",
              "      filter: drop-shadow(0px 1px 2px rgba(0, 0, 0, 0.3));\n",
              "      fill: #FFFFFF;\n",
              "    }\n",
              "  </style>\n",
              "\n",
              "      <script>\n",
              "        const buttonEl =\n",
              "          document.querySelector('#df-5d60e862-a351-49a8-b5c6-60e71f1f2da6 button.colab-df-convert');\n",
              "        buttonEl.style.display =\n",
              "          google.colab.kernel.accessAllowed ? 'block' : 'none';\n",
              "\n",
              "        async function convertToInteractive(key) {\n",
              "          const element = document.querySelector('#df-5d60e862-a351-49a8-b5c6-60e71f1f2da6');\n",
              "          const dataTable =\n",
              "            await google.colab.kernel.invokeFunction('convertToInteractive',\n",
              "                                                     [key], {});\n",
              "          if (!dataTable) return;\n",
              "\n",
              "          const docLinkHtml = 'Like what you see? Visit the ' +\n",
              "            '<a target=\"_blank\" href=https://colab.research.google.com/notebooks/data_table.ipynb>data table notebook</a>'\n",
              "            + ' to learn more about interactive tables.';\n",
              "          element.innerHTML = '';\n",
              "          dataTable['output_type'] = 'display_data';\n",
              "          await google.colab.output.renderOutput(dataTable, element);\n",
              "          const docLink = document.createElement('div');\n",
              "          docLink.innerHTML = docLinkHtml;\n",
              "          element.appendChild(docLink);\n",
              "        }\n",
              "      </script>\n",
              "    </div>\n",
              "  </div>\n",
              "  "
            ]
          },
          "metadata": {},
          "execution_count": 28
        }
      ],
      "source": [
        "#ordena os clusters\n",
        "df_usuario.groupby('ReceitaCluster')['pagamento_valor'].describe()"
      ]
    },
    {
      "cell_type": "code",
      "execution_count": 29,
      "metadata": {
        "colab": {
          "base_uri": "https://localhost:8080/",
          "height": 250
        },
        "id": "T5lvjT3qqZDF",
        "outputId": "84e40368-d65d-4f31-b519-7ca1cc0ce5be"
      },
      "outputs": [
        {
          "output_type": "execute_result",
          "data": {
            "text/plain": [
              "                   id_unico_cliente  Recencia  RecenciaCluster  Frequencia  \\\n",
              "0  861eff4711a542e4b93843c6dd7febb0       474                0           1   \n",
              "1  3c799d181c34d51f6d44bbbc563024db       483                0           1   \n",
              "2  567ab47ca4deb92d46dbf54dce07d0a7       528                0           1   \n",
              "3  f40ab89b622248b7ca125af4b486b887       474                0           1   \n",
              "4  749943913a9851a39c9baf51877fbab6       533                0           1   \n",
              "\n",
              "   FrequenciaCluster  pagamento_valor  ReceitaCluster  \n",
              "0                  0           146.87               3  \n",
              "1                  0           140.61               3  \n",
              "2                  0           142.05               3  \n",
              "3                  0           155.70               3  \n",
              "4                  0           148.33               3  "
            ],
            "text/html": [
              "\n",
              "  <div id=\"df-0214ea52-81f4-40f4-a86c-0a049a2c7f9c\">\n",
              "    <div class=\"colab-df-container\">\n",
              "      <div>\n",
              "<style scoped>\n",
              "    .dataframe tbody tr th:only-of-type {\n",
              "        vertical-align: middle;\n",
              "    }\n",
              "\n",
              "    .dataframe tbody tr th {\n",
              "        vertical-align: top;\n",
              "    }\n",
              "\n",
              "    .dataframe thead th {\n",
              "        text-align: right;\n",
              "    }\n",
              "</style>\n",
              "<table border=\"1\" class=\"dataframe\">\n",
              "  <thead>\n",
              "    <tr style=\"text-align: right;\">\n",
              "      <th></th>\n",
              "      <th>id_unico_cliente</th>\n",
              "      <th>Recencia</th>\n",
              "      <th>RecenciaCluster</th>\n",
              "      <th>Frequencia</th>\n",
              "      <th>FrequenciaCluster</th>\n",
              "      <th>pagamento_valor</th>\n",
              "      <th>ReceitaCluster</th>\n",
              "    </tr>\n",
              "  </thead>\n",
              "  <tbody>\n",
              "    <tr>\n",
              "      <th>0</th>\n",
              "      <td>861eff4711a542e4b93843c6dd7febb0</td>\n",
              "      <td>474</td>\n",
              "      <td>0</td>\n",
              "      <td>1</td>\n",
              "      <td>0</td>\n",
              "      <td>146.87</td>\n",
              "      <td>3</td>\n",
              "    </tr>\n",
              "    <tr>\n",
              "      <th>1</th>\n",
              "      <td>3c799d181c34d51f6d44bbbc563024db</td>\n",
              "      <td>483</td>\n",
              "      <td>0</td>\n",
              "      <td>1</td>\n",
              "      <td>0</td>\n",
              "      <td>140.61</td>\n",
              "      <td>3</td>\n",
              "    </tr>\n",
              "    <tr>\n",
              "      <th>2</th>\n",
              "      <td>567ab47ca4deb92d46dbf54dce07d0a7</td>\n",
              "      <td>528</td>\n",
              "      <td>0</td>\n",
              "      <td>1</td>\n",
              "      <td>0</td>\n",
              "      <td>142.05</td>\n",
              "      <td>3</td>\n",
              "    </tr>\n",
              "    <tr>\n",
              "      <th>3</th>\n",
              "      <td>f40ab89b622248b7ca125af4b486b887</td>\n",
              "      <td>474</td>\n",
              "      <td>0</td>\n",
              "      <td>1</td>\n",
              "      <td>0</td>\n",
              "      <td>155.70</td>\n",
              "      <td>3</td>\n",
              "    </tr>\n",
              "    <tr>\n",
              "      <th>4</th>\n",
              "      <td>749943913a9851a39c9baf51877fbab6</td>\n",
              "      <td>533</td>\n",
              "      <td>0</td>\n",
              "      <td>1</td>\n",
              "      <td>0</td>\n",
              "      <td>148.33</td>\n",
              "      <td>3</td>\n",
              "    </tr>\n",
              "  </tbody>\n",
              "</table>\n",
              "</div>\n",
              "      <button class=\"colab-df-convert\" onclick=\"convertToInteractive('df-0214ea52-81f4-40f4-a86c-0a049a2c7f9c')\"\n",
              "              title=\"Convert this dataframe to an interactive table.\"\n",
              "              style=\"display:none;\">\n",
              "        \n",
              "  <svg xmlns=\"http://www.w3.org/2000/svg\" height=\"24px\"viewBox=\"0 0 24 24\"\n",
              "       width=\"24px\">\n",
              "    <path d=\"M0 0h24v24H0V0z\" fill=\"none\"/>\n",
              "    <path d=\"M18.56 5.44l.94 2.06.94-2.06 2.06-.94-2.06-.94-.94-2.06-.94 2.06-2.06.94zm-11 1L8.5 8.5l.94-2.06 2.06-.94-2.06-.94L8.5 2.5l-.94 2.06-2.06.94zm10 10l.94 2.06.94-2.06 2.06-.94-2.06-.94-.94-2.06-.94 2.06-2.06.94z\"/><path d=\"M17.41 7.96l-1.37-1.37c-.4-.4-.92-.59-1.43-.59-.52 0-1.04.2-1.43.59L10.3 9.45l-7.72 7.72c-.78.78-.78 2.05 0 2.83L4 21.41c.39.39.9.59 1.41.59.51 0 1.02-.2 1.41-.59l7.78-7.78 2.81-2.81c.8-.78.8-2.07 0-2.86zM5.41 20L4 18.59l7.72-7.72 1.47 1.35L5.41 20z\"/>\n",
              "  </svg>\n",
              "      </button>\n",
              "      \n",
              "  <style>\n",
              "    .colab-df-container {\n",
              "      display:flex;\n",
              "      flex-wrap:wrap;\n",
              "      gap: 12px;\n",
              "    }\n",
              "\n",
              "    .colab-df-convert {\n",
              "      background-color: #E8F0FE;\n",
              "      border: none;\n",
              "      border-radius: 50%;\n",
              "      cursor: pointer;\n",
              "      display: none;\n",
              "      fill: #1967D2;\n",
              "      height: 32px;\n",
              "      padding: 0 0 0 0;\n",
              "      width: 32px;\n",
              "    }\n",
              "\n",
              "    .colab-df-convert:hover {\n",
              "      background-color: #E2EBFA;\n",
              "      box-shadow: 0px 1px 2px rgba(60, 64, 67, 0.3), 0px 1px 3px 1px rgba(60, 64, 67, 0.15);\n",
              "      fill: #174EA6;\n",
              "    }\n",
              "\n",
              "    [theme=dark] .colab-df-convert {\n",
              "      background-color: #3B4455;\n",
              "      fill: #D2E3FC;\n",
              "    }\n",
              "\n",
              "    [theme=dark] .colab-df-convert:hover {\n",
              "      background-color: #434B5C;\n",
              "      box-shadow: 0px 1px 3px 1px rgba(0, 0, 0, 0.15);\n",
              "      filter: drop-shadow(0px 1px 2px rgba(0, 0, 0, 0.3));\n",
              "      fill: #FFFFFF;\n",
              "    }\n",
              "  </style>\n",
              "\n",
              "      <script>\n",
              "        const buttonEl =\n",
              "          document.querySelector('#df-0214ea52-81f4-40f4-a86c-0a049a2c7f9c button.colab-df-convert');\n",
              "        buttonEl.style.display =\n",
              "          google.colab.kernel.accessAllowed ? 'block' : 'none';\n",
              "\n",
              "        async function convertToInteractive(key) {\n",
              "          const element = document.querySelector('#df-0214ea52-81f4-40f4-a86c-0a049a2c7f9c');\n",
              "          const dataTable =\n",
              "            await google.colab.kernel.invokeFunction('convertToInteractive',\n",
              "                                                     [key], {});\n",
              "          if (!dataTable) return;\n",
              "\n",
              "          const docLinkHtml = 'Like what you see? Visit the ' +\n",
              "            '<a target=\"_blank\" href=https://colab.research.google.com/notebooks/data_table.ipynb>data table notebook</a>'\n",
              "            + ' to learn more about interactive tables.';\n",
              "          element.innerHTML = '';\n",
              "          dataTable['output_type'] = 'display_data';\n",
              "          await google.colab.output.renderOutput(dataTable, element);\n",
              "          const docLink = document.createElement('div');\n",
              "          docLink.innerHTML = docLinkHtml;\n",
              "          element.appendChild(docLink);\n",
              "        }\n",
              "      </script>\n",
              "    </div>\n",
              "  </div>\n",
              "  "
            ]
          },
          "metadata": {},
          "execution_count": 29
        }
      ],
      "source": [
        "df_final = df_usuario.drop(['id_cliente','horario_pedido','item_id','preco'],axis=1)\n",
        "df_final.head()"
      ]
    },
    {
      "cell_type": "code",
      "execution_count": 30,
      "metadata": {
        "id": "nrMUvGWtqZDF"
      },
      "outputs": [],
      "source": [
        "#renomeando as colunas\n",
        "df_final.columns = ['Id_unico_cliente', 'Recencia', 'RecenciaCluster', 'Frequencia', 'FrequenciaCluster', 'Receita', 'ReceitaCluster']"
      ]
    },
    {
      "cell_type": "code",
      "execution_count": 31,
      "metadata": {
        "colab": {
          "base_uri": "https://localhost:8080/",
          "height": 206
        },
        "id": "ryth368cqZDF",
        "outputId": "e94fcade-27d4-4eaa-d438-942aeb15925a"
      },
      "outputs": [
        {
          "output_type": "execute_result",
          "data": {
            "text/plain": [
              "                   Id_unico_cliente  Recencia  RecenciaCluster  Frequencia  \\\n",
              "0  861eff4711a542e4b93843c6dd7febb0       474                0           1   \n",
              "1  3c799d181c34d51f6d44bbbc563024db       483                0           1   \n",
              "2  567ab47ca4deb92d46dbf54dce07d0a7       528                0           1   \n",
              "3  f40ab89b622248b7ca125af4b486b887       474                0           1   \n",
              "4  749943913a9851a39c9baf51877fbab6       533                0           1   \n",
              "\n",
              "   FrequenciaCluster  Receita  ReceitaCluster  \n",
              "0                  0   146.87               3  \n",
              "1                  0   140.61               3  \n",
              "2                  0   142.05               3  \n",
              "3                  0   155.70               3  \n",
              "4                  0   148.33               3  "
            ],
            "text/html": [
              "\n",
              "  <div id=\"df-8decdcec-7f24-434e-8d9a-fef68e689963\">\n",
              "    <div class=\"colab-df-container\">\n",
              "      <div>\n",
              "<style scoped>\n",
              "    .dataframe tbody tr th:only-of-type {\n",
              "        vertical-align: middle;\n",
              "    }\n",
              "\n",
              "    .dataframe tbody tr th {\n",
              "        vertical-align: top;\n",
              "    }\n",
              "\n",
              "    .dataframe thead th {\n",
              "        text-align: right;\n",
              "    }\n",
              "</style>\n",
              "<table border=\"1\" class=\"dataframe\">\n",
              "  <thead>\n",
              "    <tr style=\"text-align: right;\">\n",
              "      <th></th>\n",
              "      <th>Id_unico_cliente</th>\n",
              "      <th>Recencia</th>\n",
              "      <th>RecenciaCluster</th>\n",
              "      <th>Frequencia</th>\n",
              "      <th>FrequenciaCluster</th>\n",
              "      <th>Receita</th>\n",
              "      <th>ReceitaCluster</th>\n",
              "    </tr>\n",
              "  </thead>\n",
              "  <tbody>\n",
              "    <tr>\n",
              "      <th>0</th>\n",
              "      <td>861eff4711a542e4b93843c6dd7febb0</td>\n",
              "      <td>474</td>\n",
              "      <td>0</td>\n",
              "      <td>1</td>\n",
              "      <td>0</td>\n",
              "      <td>146.87</td>\n",
              "      <td>3</td>\n",
              "    </tr>\n",
              "    <tr>\n",
              "      <th>1</th>\n",
              "      <td>3c799d181c34d51f6d44bbbc563024db</td>\n",
              "      <td>483</td>\n",
              "      <td>0</td>\n",
              "      <td>1</td>\n",
              "      <td>0</td>\n",
              "      <td>140.61</td>\n",
              "      <td>3</td>\n",
              "    </tr>\n",
              "    <tr>\n",
              "      <th>2</th>\n",
              "      <td>567ab47ca4deb92d46dbf54dce07d0a7</td>\n",
              "      <td>528</td>\n",
              "      <td>0</td>\n",
              "      <td>1</td>\n",
              "      <td>0</td>\n",
              "      <td>142.05</td>\n",
              "      <td>3</td>\n",
              "    </tr>\n",
              "    <tr>\n",
              "      <th>3</th>\n",
              "      <td>f40ab89b622248b7ca125af4b486b887</td>\n",
              "      <td>474</td>\n",
              "      <td>0</td>\n",
              "      <td>1</td>\n",
              "      <td>0</td>\n",
              "      <td>155.70</td>\n",
              "      <td>3</td>\n",
              "    </tr>\n",
              "    <tr>\n",
              "      <th>4</th>\n",
              "      <td>749943913a9851a39c9baf51877fbab6</td>\n",
              "      <td>533</td>\n",
              "      <td>0</td>\n",
              "      <td>1</td>\n",
              "      <td>0</td>\n",
              "      <td>148.33</td>\n",
              "      <td>3</td>\n",
              "    </tr>\n",
              "  </tbody>\n",
              "</table>\n",
              "</div>\n",
              "      <button class=\"colab-df-convert\" onclick=\"convertToInteractive('df-8decdcec-7f24-434e-8d9a-fef68e689963')\"\n",
              "              title=\"Convert this dataframe to an interactive table.\"\n",
              "              style=\"display:none;\">\n",
              "        \n",
              "  <svg xmlns=\"http://www.w3.org/2000/svg\" height=\"24px\"viewBox=\"0 0 24 24\"\n",
              "       width=\"24px\">\n",
              "    <path d=\"M0 0h24v24H0V0z\" fill=\"none\"/>\n",
              "    <path d=\"M18.56 5.44l.94 2.06.94-2.06 2.06-.94-2.06-.94-.94-2.06-.94 2.06-2.06.94zm-11 1L8.5 8.5l.94-2.06 2.06-.94-2.06-.94L8.5 2.5l-.94 2.06-2.06.94zm10 10l.94 2.06.94-2.06 2.06-.94-2.06-.94-.94-2.06-.94 2.06-2.06.94z\"/><path d=\"M17.41 7.96l-1.37-1.37c-.4-.4-.92-.59-1.43-.59-.52 0-1.04.2-1.43.59L10.3 9.45l-7.72 7.72c-.78.78-.78 2.05 0 2.83L4 21.41c.39.39.9.59 1.41.59.51 0 1.02-.2 1.41-.59l7.78-7.78 2.81-2.81c.8-.78.8-2.07 0-2.86zM5.41 20L4 18.59l7.72-7.72 1.47 1.35L5.41 20z\"/>\n",
              "  </svg>\n",
              "      </button>\n",
              "      \n",
              "  <style>\n",
              "    .colab-df-container {\n",
              "      display:flex;\n",
              "      flex-wrap:wrap;\n",
              "      gap: 12px;\n",
              "    }\n",
              "\n",
              "    .colab-df-convert {\n",
              "      background-color: #E8F0FE;\n",
              "      border: none;\n",
              "      border-radius: 50%;\n",
              "      cursor: pointer;\n",
              "      display: none;\n",
              "      fill: #1967D2;\n",
              "      height: 32px;\n",
              "      padding: 0 0 0 0;\n",
              "      width: 32px;\n",
              "    }\n",
              "\n",
              "    .colab-df-convert:hover {\n",
              "      background-color: #E2EBFA;\n",
              "      box-shadow: 0px 1px 2px rgba(60, 64, 67, 0.3), 0px 1px 3px 1px rgba(60, 64, 67, 0.15);\n",
              "      fill: #174EA6;\n",
              "    }\n",
              "\n",
              "    [theme=dark] .colab-df-convert {\n",
              "      background-color: #3B4455;\n",
              "      fill: #D2E3FC;\n",
              "    }\n",
              "\n",
              "    [theme=dark] .colab-df-convert:hover {\n",
              "      background-color: #434B5C;\n",
              "      box-shadow: 0px 1px 3px 1px rgba(0, 0, 0, 0.15);\n",
              "      filter: drop-shadow(0px 1px 2px rgba(0, 0, 0, 0.3));\n",
              "      fill: #FFFFFF;\n",
              "    }\n",
              "  </style>\n",
              "\n",
              "      <script>\n",
              "        const buttonEl =\n",
              "          document.querySelector('#df-8decdcec-7f24-434e-8d9a-fef68e689963 button.colab-df-convert');\n",
              "        buttonEl.style.display =\n",
              "          google.colab.kernel.accessAllowed ? 'block' : 'none';\n",
              "\n",
              "        async function convertToInteractive(key) {\n",
              "          const element = document.querySelector('#df-8decdcec-7f24-434e-8d9a-fef68e689963');\n",
              "          const dataTable =\n",
              "            await google.colab.kernel.invokeFunction('convertToInteractive',\n",
              "                                                     [key], {});\n",
              "          if (!dataTable) return;\n",
              "\n",
              "          const docLinkHtml = 'Like what you see? Visit the ' +\n",
              "            '<a target=\"_blank\" href=https://colab.research.google.com/notebooks/data_table.ipynb>data table notebook</a>'\n",
              "            + ' to learn more about interactive tables.';\n",
              "          element.innerHTML = '';\n",
              "          dataTable['output_type'] = 'display_data';\n",
              "          await google.colab.output.renderOutput(dataTable, element);\n",
              "          const docLink = document.createElement('div');\n",
              "          docLink.innerHTML = docLinkHtml;\n",
              "          element.appendChild(docLink);\n",
              "        }\n",
              "      </script>\n",
              "    </div>\n",
              "  </div>\n",
              "  "
            ]
          },
          "metadata": {},
          "execution_count": 31
        }
      ],
      "source": [
        "df_final.head()"
      ]
    },
    {
      "cell_type": "code",
      "execution_count": 32,
      "metadata": {
        "id": "qBz_DrqmqZDG"
      },
      "outputs": [],
      "source": [
        "df_final = ordenar_cluster('FrequenciaCluster', 'ReceitaCluster',df_final,False)"
      ]
    },
    {
      "cell_type": "markdown",
      "metadata": {
        "id": "HbDwbjCJqZDG"
      },
      "source": [
        "> Calcularemos a pontuação geral do cliente baseado nesses clusters e também definimos 4 opções: inativo, business, master e premium. "
      ]
    },
    {
      "cell_type": "code",
      "execution_count": 33,
      "metadata": {
        "colab": {
          "base_uri": "https://localhost:8080/",
          "height": 270
        },
        "id": "Evp-LqfDqZDG",
        "outputId": "a9d28051-fa91-43dc-d942-32c58274aa04"
      },
      "outputs": [
        {
          "output_type": "execute_result",
          "data": {
            "text/plain": [
              "                   Id_unico_cliente  Recencia  RecenciaCluster  Frequencia  \\\n",
              "0  861eff4711a542e4b93843c6dd7febb0       474                0           1   \n",
              "1  3c799d181c34d51f6d44bbbc563024db       483                0           1   \n",
              "2  567ab47ca4deb92d46dbf54dce07d0a7       528                0           1   \n",
              "3  f40ab89b622248b7ca125af4b486b887       474                0           1   \n",
              "4  749943913a9851a39c9baf51877fbab6       533                0           1   \n",
              "\n",
              "   Receita  ReceitaCluster  FrequenciaCluster  Pontuacao  \n",
              "0   146.87               3                  1          3  \n",
              "1   140.61               3                  1          3  \n",
              "2   142.05               3                  1          3  \n",
              "3   155.70               3                  1          3  \n",
              "4   148.33               3                  1          3  "
            ],
            "text/html": [
              "\n",
              "  <div id=\"df-a84f87de-fc3a-465c-b18a-53e88b7fcb88\">\n",
              "    <div class=\"colab-df-container\">\n",
              "      <div>\n",
              "<style scoped>\n",
              "    .dataframe tbody tr th:only-of-type {\n",
              "        vertical-align: middle;\n",
              "    }\n",
              "\n",
              "    .dataframe tbody tr th {\n",
              "        vertical-align: top;\n",
              "    }\n",
              "\n",
              "    .dataframe thead th {\n",
              "        text-align: right;\n",
              "    }\n",
              "</style>\n",
              "<table border=\"1\" class=\"dataframe\">\n",
              "  <thead>\n",
              "    <tr style=\"text-align: right;\">\n",
              "      <th></th>\n",
              "      <th>Id_unico_cliente</th>\n",
              "      <th>Recencia</th>\n",
              "      <th>RecenciaCluster</th>\n",
              "      <th>Frequencia</th>\n",
              "      <th>Receita</th>\n",
              "      <th>ReceitaCluster</th>\n",
              "      <th>FrequenciaCluster</th>\n",
              "      <th>Pontuacao</th>\n",
              "    </tr>\n",
              "  </thead>\n",
              "  <tbody>\n",
              "    <tr>\n",
              "      <th>0</th>\n",
              "      <td>861eff4711a542e4b93843c6dd7febb0</td>\n",
              "      <td>474</td>\n",
              "      <td>0</td>\n",
              "      <td>1</td>\n",
              "      <td>146.87</td>\n",
              "      <td>3</td>\n",
              "      <td>1</td>\n",
              "      <td>3</td>\n",
              "    </tr>\n",
              "    <tr>\n",
              "      <th>1</th>\n",
              "      <td>3c799d181c34d51f6d44bbbc563024db</td>\n",
              "      <td>483</td>\n",
              "      <td>0</td>\n",
              "      <td>1</td>\n",
              "      <td>140.61</td>\n",
              "      <td>3</td>\n",
              "      <td>1</td>\n",
              "      <td>3</td>\n",
              "    </tr>\n",
              "    <tr>\n",
              "      <th>2</th>\n",
              "      <td>567ab47ca4deb92d46dbf54dce07d0a7</td>\n",
              "      <td>528</td>\n",
              "      <td>0</td>\n",
              "      <td>1</td>\n",
              "      <td>142.05</td>\n",
              "      <td>3</td>\n",
              "      <td>1</td>\n",
              "      <td>3</td>\n",
              "    </tr>\n",
              "    <tr>\n",
              "      <th>3</th>\n",
              "      <td>f40ab89b622248b7ca125af4b486b887</td>\n",
              "      <td>474</td>\n",
              "      <td>0</td>\n",
              "      <td>1</td>\n",
              "      <td>155.70</td>\n",
              "      <td>3</td>\n",
              "      <td>1</td>\n",
              "      <td>3</td>\n",
              "    </tr>\n",
              "    <tr>\n",
              "      <th>4</th>\n",
              "      <td>749943913a9851a39c9baf51877fbab6</td>\n",
              "      <td>533</td>\n",
              "      <td>0</td>\n",
              "      <td>1</td>\n",
              "      <td>148.33</td>\n",
              "      <td>3</td>\n",
              "      <td>1</td>\n",
              "      <td>3</td>\n",
              "    </tr>\n",
              "  </tbody>\n",
              "</table>\n",
              "</div>\n",
              "      <button class=\"colab-df-convert\" onclick=\"convertToInteractive('df-a84f87de-fc3a-465c-b18a-53e88b7fcb88')\"\n",
              "              title=\"Convert this dataframe to an interactive table.\"\n",
              "              style=\"display:none;\">\n",
              "        \n",
              "  <svg xmlns=\"http://www.w3.org/2000/svg\" height=\"24px\"viewBox=\"0 0 24 24\"\n",
              "       width=\"24px\">\n",
              "    <path d=\"M0 0h24v24H0V0z\" fill=\"none\"/>\n",
              "    <path d=\"M18.56 5.44l.94 2.06.94-2.06 2.06-.94-2.06-.94-.94-2.06-.94 2.06-2.06.94zm-11 1L8.5 8.5l.94-2.06 2.06-.94-2.06-.94L8.5 2.5l-.94 2.06-2.06.94zm10 10l.94 2.06.94-2.06 2.06-.94-2.06-.94-.94-2.06-.94 2.06-2.06.94z\"/><path d=\"M17.41 7.96l-1.37-1.37c-.4-.4-.92-.59-1.43-.59-.52 0-1.04.2-1.43.59L10.3 9.45l-7.72 7.72c-.78.78-.78 2.05 0 2.83L4 21.41c.39.39.9.59 1.41.59.51 0 1.02-.2 1.41-.59l7.78-7.78 2.81-2.81c.8-.78.8-2.07 0-2.86zM5.41 20L4 18.59l7.72-7.72 1.47 1.35L5.41 20z\"/>\n",
              "  </svg>\n",
              "      </button>\n",
              "      \n",
              "  <style>\n",
              "    .colab-df-container {\n",
              "      display:flex;\n",
              "      flex-wrap:wrap;\n",
              "      gap: 12px;\n",
              "    }\n",
              "\n",
              "    .colab-df-convert {\n",
              "      background-color: #E8F0FE;\n",
              "      border: none;\n",
              "      border-radius: 50%;\n",
              "      cursor: pointer;\n",
              "      display: none;\n",
              "      fill: #1967D2;\n",
              "      height: 32px;\n",
              "      padding: 0 0 0 0;\n",
              "      width: 32px;\n",
              "    }\n",
              "\n",
              "    .colab-df-convert:hover {\n",
              "      background-color: #E2EBFA;\n",
              "      box-shadow: 0px 1px 2px rgba(60, 64, 67, 0.3), 0px 1px 3px 1px rgba(60, 64, 67, 0.15);\n",
              "      fill: #174EA6;\n",
              "    }\n",
              "\n",
              "    [theme=dark] .colab-df-convert {\n",
              "      background-color: #3B4455;\n",
              "      fill: #D2E3FC;\n",
              "    }\n",
              "\n",
              "    [theme=dark] .colab-df-convert:hover {\n",
              "      background-color: #434B5C;\n",
              "      box-shadow: 0px 1px 3px 1px rgba(0, 0, 0, 0.15);\n",
              "      filter: drop-shadow(0px 1px 2px rgba(0, 0, 0, 0.3));\n",
              "      fill: #FFFFFF;\n",
              "    }\n",
              "  </style>\n",
              "\n",
              "      <script>\n",
              "        const buttonEl =\n",
              "          document.querySelector('#df-a84f87de-fc3a-465c-b18a-53e88b7fcb88 button.colab-df-convert');\n",
              "        buttonEl.style.display =\n",
              "          google.colab.kernel.accessAllowed ? 'block' : 'none';\n",
              "\n",
              "        async function convertToInteractive(key) {\n",
              "          const element = document.querySelector('#df-a84f87de-fc3a-465c-b18a-53e88b7fcb88');\n",
              "          const dataTable =\n",
              "            await google.colab.kernel.invokeFunction('convertToInteractive',\n",
              "                                                     [key], {});\n",
              "          if (!dataTable) return;\n",
              "\n",
              "          const docLinkHtml = 'Like what you see? Visit the ' +\n",
              "            '<a target=\"_blank\" href=https://colab.research.google.com/notebooks/data_table.ipynb>data table notebook</a>'\n",
              "            + ' to learn more about interactive tables.';\n",
              "          element.innerHTML = '';\n",
              "          dataTable['output_type'] = 'display_data';\n",
              "          await google.colab.output.renderOutput(dataTable, element);\n",
              "          const docLink = document.createElement('div');\n",
              "          docLink.innerHTML = docLinkHtml;\n",
              "          element.appendChild(docLink);\n",
              "        }\n",
              "      </script>\n",
              "    </div>\n",
              "  </div>\n",
              "  "
            ]
          },
          "metadata": {},
          "execution_count": 33
        }
      ],
      "source": [
        "df_final['Pontuacao'] = df_usuario['RecenciaCluster'] + df_usuario['FrequenciaCluster'] + df_usuario['ReceitaCluster']\n",
        "df_final.groupby('Pontuacao')['Recencia','Frequencia','Receita'].mean()\n",
        "df_final.head()"
      ]
    },
    {
      "cell_type": "code",
      "execution_count": 34,
      "metadata": {
        "id": "m1WFjueAqZDG"
      },
      "outputs": [],
      "source": [
        "df_final['Segmento'] = 'Inativo'"
      ]
    },
    {
      "cell_type": "code",
      "execution_count": 35,
      "metadata": {
        "id": "mVG-VcdxqZDG"
      },
      "outputs": [],
      "source": [
        "df_final.loc[df_final['Pontuacao']>=3,'Segmento'] = 'Business' \n",
        "df_final.loc[df_final['Pontuacao']>=6,'Segmento'] = 'Master' \n",
        "df_final.loc[df_final['Pontuacao']>=8,'Segmento'] = 'Premium' "
      ]
    },
    {
      "cell_type": "code",
      "execution_count": 36,
      "metadata": {
        "id": "1beX07myqZDH"
      },
      "outputs": [],
      "source": [
        "df_final.to_csv('RFM.csv')"
      ]
    },
    {
      "cell_type": "code",
      "execution_count": 37,
      "metadata": {
        "id": "otPOqRpYqZDH"
      },
      "outputs": [],
      "source": [
        "def plot_segmento(x,y,data):\n",
        "    sns.set(palette='muted', color_codes=True, style='whitegrid')\n",
        "    fig, axs = plt.subplots(1, 1, figsize=(7, 5))\n",
        "    sns.despine(left=True)\n",
        "    sns.scatterplot(x=x, y=y, hue='Segmento', data=data, size='Segmento', sizes=(50,150), size_order=['Premium','Master','Business','Inativo'])\n",
        "    axs.set_title('Segmento de Cliente')\n",
        "    plt.show()"
      ]
    },
    {
      "cell_type": "code",
      "execution_count": null,
      "metadata": {
        "id": "eArka3AgqZDH",
        "outputId": "29178cff-160c-4eec-f1c1-22f40d4a0b3e"
      },
      "outputs": [
        {
          "data": {
            "image/png": "[encoded data removed]",
            "text/plain": [
              "<Figure size 504x360 with 1 Axes>"
            ]
          },
          "metadata": {},
          "output_type": "display_data"
        }
      ],
      "source": [
        "plot_segmento('Recencia','Frequencia',df_final)"
      ]
    },
    {
      "cell_type": "code",
      "execution_count": 38,
      "metadata": {
        "colab": {
          "base_uri": "https://localhost:8080/",
          "height": 355
        },
        "id": "uRBm_9L1qZDI",
        "outputId": "3e479279-f14a-41aa-c5ba-fb5158b12b81"
      },
      "outputs": [
        {
          "output_type": "display_data",
          "data": {
            "text/plain": [
              "<Figure size 504x360 with 1 Axes>"
            ],
            "image/png": "[encoded data removed]"
          },
          "metadata": {}
        }
      ],
      "source": [
        "plot_segmento('Frequencia','Receita',df_final)"
      ]
    },
    {
      "cell_type": "code",
      "execution_count": 39,
      "metadata": {
        "colab": {
          "base_uri": "https://localhost:8080/",
          "height": 355
        },
        "id": "tyEd4-CcqZDI",
        "outputId": "9b0c97f6-23b1-4739-93a7-4d40f50bed0f"
      },
      "outputs": [
        {
          "output_type": "display_data",
          "data": {
            "text/plain": [
              "<Figure size 504x360 with 1 Axes>"
            ],
            "image/png": "[encoded data removed]"
          },
          "metadata": {}
        }
      ],
      "source": [
        "plot_segmento('Recencia','Receita',df_final)"
      ]
    },
    {
      "cell_type": "code",
      "execution_count": 40,
      "metadata": {
        "colab": {
          "base_uri": "https://localhost:8080/",
          "height": 303
        },
        "id": "5S4xPhBCqZDI",
        "outputId": "b7cbb14f-ab8a-4e6f-a8ef-c943b8120ea1"
      },
      "outputs": [
        {
          "output_type": "execute_result",
          "data": {
            "text/plain": [
              "<matplotlib.axes._subplots.AxesSubplot at 0x7fd274e33750>"
            ]
          },
          "metadata": {},
          "execution_count": 40
        },
        {
          "output_type": "display_data",
          "data": {
            "text/plain": [
              "<Figure size 432x288 with 1 Axes>"
            ],
            "image/png": "[encoded data removed]"
          },
          "metadata": {}
        }
      ],
      "source": [
        "sns.countplot(df_final['Segmento'])"
      ]
    },
    {
      "cell_type": "markdown",
      "metadata": {
        "id": "qWLEw3smqZDI"
      },
      "source": [
        "> Neste curso, aprendemos então um dos métodos mais utilizados de cliusterização, o K-means, e também como podemos determinar matematicamente o melhor número de clientes. Por fim, conseguimos dividir os clientes com base em seu comportamento. Podemos também criar outros tipos de segmentação com base nas campanhas de marketing que queremos explorar. É importante ressaltar que esse é apenas um dos vários métodos de clusterização e que existem outros tipos de algoritmos e de separações que podemos fazer. Neste caso, fizemos uma clusterização com base na pontuação, ou seja, clientes que compram muito, mas com pouca frequência podem acabar tendo uma pontuação semelhante aos que gastam menos, mas com mais frequência. Para fazer uma análise mais completa, poderíamos criar uma tabela inteira se nos basearmos em uma pontuação de 1 a 5 como o exemplo abaixo:"
      ]
    },
    {
      "cell_type": "markdown",
      "metadata": {
        "id": "vVWbeahWqZDJ"
      },
      "source": [
        "| **Segmentos**        | **Descrição**                                                      | **Recência** | **Frequência** | **Receita** |\n",
        "|----------------------|--------------------------------------------------------------------|--------------|----------------|-------------|\n",
        "| Campeões             | Compraram recentemente, compram com frequência e gastam muito      | 4-5          | 4-5            | 4-5         |\n",
        "| Clientes fiéis       | Gastam muito e respondem a promoções                               | 2-5          | 3-5            | 3-5         |\n",
        "| Potencialmente fiéis | Compraram recentemente, mais de uma vez e gastaram uma boa quantia | 3-5          | 1-3            | 1-3         |\n",
        "| Novos clientes       | Compraram recentemente, mas não compram com frequência             | 4-5          | <=1            | <=1         |\n",
        "| Promissores          | Compraram recentemente, mas não gastaram muito                     | 3-4          | <=1            | <=1         |\n",
        "| Precisam de atenção  | Recência, frequência e valor monetário acima da média              | 2-3          | 2-3            | 2-3         |\n",
        "| Quase em risco       | Recência, frequência e valor monetário abaixo da média             | 2-3          | <=2            | <=2         |\n",
        "| De risco             | Gastaram muito, compraram muitas vezes, mas há muito tempo         | <=2          | 2-5            | 2-5         |\n",
        "| Não pode perdê-los   | Compraram muito e com frequência, mas há muito tempo               | <=1          | 4-5            | 4-5         |\n",
        "| Hibernando           | Compraram pouco, com baixa frequência e há muito tempo             | 1-2          | 1-2            | 1-2         |\n",
        "| Perdidos             | Recência, frequência e valores monetários baixos                   | <=2          | <=2            | <=2         |"
      ]
    },
    {
      "cell_type": "code",
      "execution_count": null,
      "metadata": {
        "id": "ZiqcdZtiqZDJ"
      },
      "outputs": [],
      "source": []
    },
    {
      "cell_type": "code",
      "execution_count": null,
      "metadata": {
        "id": "NxrUIGJQqZDJ"
      },
      "outputs": [],
      "source": []
    }
  ],
  "metadata": {
    "kernelspec": {
      "display_name": "Python 3",
      "language": "python",
      "name": "python3"
    },
    "language_info": {
      "codemirror_mode": {
        "name": "ipython",
        "version": 3
      },
      "file_extension": ".py",
      "mimetype": "text/x-python",
      "name": "python",
      "nbconvert_exporter": "python",
      "pygments_lexer": "ipython3",
      "version": "3.6.9"
    },
    "colab": {
      "provenance": []
    }
  },
  "nbformat": 4,
  "nbformat_minor": 0
}